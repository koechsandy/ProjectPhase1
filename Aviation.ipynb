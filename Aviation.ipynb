{
 "cells": [
  {
   "cell_type": "markdown",
   "metadata": {},
   "source": [
    "## Loading-Data"
   ]
  },
  {
   "cell_type": "code",
   "execution_count": 2,
   "metadata": {},
   "outputs": [],
   "source": [
    "# Importing modules\n",
    "import pandas as pd \n",
    "import matplotlib.pyplot as plt\n",
    "import numpy as np\n",
    "import seaborn as sns\n",
    "%matplotlib inline"
   ]
  },
  {
   "cell_type": "code",
   "execution_count": 3,
   "metadata": {},
   "outputs": [
    {
     "name": "stderr",
     "output_type": "stream",
     "text": [
      "C:\\Users\\koech\\AppData\\Local\\Temp\\ipykernel_4144\\2286730898.py:1: DtypeWarning: Columns (6,7,28) have mixed types. Specify dtype option on import or set low_memory=False.\n",
      "  df = pd.read_csv('AviationData.csv', encoding='ISO-8859-1')\n"
     ]
    },
    {
     "data": {
      "text/html": [
       "<div>\n",
       "<style scoped>\n",
       "    .dataframe tbody tr th:only-of-type {\n",
       "        vertical-align: middle;\n",
       "    }\n",
       "\n",
       "    .dataframe tbody tr th {\n",
       "        vertical-align: top;\n",
       "    }\n",
       "\n",
       "    .dataframe thead th {\n",
       "        text-align: right;\n",
       "    }\n",
       "</style>\n",
       "<table border=\"1\" class=\"dataframe\">\n",
       "  <thead>\n",
       "    <tr style=\"text-align: right;\">\n",
       "      <th></th>\n",
       "      <th>Event.Id</th>\n",
       "      <th>Investigation.Type</th>\n",
       "      <th>Accident.Number</th>\n",
       "      <th>Event.Date</th>\n",
       "      <th>Location</th>\n",
       "      <th>Country</th>\n",
       "      <th>Latitude</th>\n",
       "      <th>Longitude</th>\n",
       "      <th>Airport.Code</th>\n",
       "      <th>Airport.Name</th>\n",
       "      <th>...</th>\n",
       "      <th>Purpose.of.flight</th>\n",
       "      <th>Air.carrier</th>\n",
       "      <th>Total.Fatal.Injuries</th>\n",
       "      <th>Total.Serious.Injuries</th>\n",
       "      <th>Total.Minor.Injuries</th>\n",
       "      <th>Total.Uninjured</th>\n",
       "      <th>Weather.Condition</th>\n",
       "      <th>Broad.phase.of.flight</th>\n",
       "      <th>Report.Status</th>\n",
       "      <th>Publication.Date</th>\n",
       "    </tr>\n",
       "  </thead>\n",
       "  <tbody>\n",
       "    <tr>\n",
       "      <th>0</th>\n",
       "      <td>20001218X45444</td>\n",
       "      <td>Accident</td>\n",
       "      <td>SEA87LA080</td>\n",
       "      <td>1948-10-24</td>\n",
       "      <td>MOOSE CREEK, ID</td>\n",
       "      <td>United States</td>\n",
       "      <td>NaN</td>\n",
       "      <td>NaN</td>\n",
       "      <td>NaN</td>\n",
       "      <td>NaN</td>\n",
       "      <td>...</td>\n",
       "      <td>Personal</td>\n",
       "      <td>NaN</td>\n",
       "      <td>2.0</td>\n",
       "      <td>0.0</td>\n",
       "      <td>0.0</td>\n",
       "      <td>0.0</td>\n",
       "      <td>UNK</td>\n",
       "      <td>Cruise</td>\n",
       "      <td>Probable Cause</td>\n",
       "      <td>NaN</td>\n",
       "    </tr>\n",
       "    <tr>\n",
       "      <th>1</th>\n",
       "      <td>20001218X45447</td>\n",
       "      <td>Accident</td>\n",
       "      <td>LAX94LA336</td>\n",
       "      <td>1962-07-19</td>\n",
       "      <td>BRIDGEPORT, CA</td>\n",
       "      <td>United States</td>\n",
       "      <td>NaN</td>\n",
       "      <td>NaN</td>\n",
       "      <td>NaN</td>\n",
       "      <td>NaN</td>\n",
       "      <td>...</td>\n",
       "      <td>Personal</td>\n",
       "      <td>NaN</td>\n",
       "      <td>4.0</td>\n",
       "      <td>0.0</td>\n",
       "      <td>0.0</td>\n",
       "      <td>0.0</td>\n",
       "      <td>UNK</td>\n",
       "      <td>Unknown</td>\n",
       "      <td>Probable Cause</td>\n",
       "      <td>19-09-1996</td>\n",
       "    </tr>\n",
       "    <tr>\n",
       "      <th>2</th>\n",
       "      <td>20061025X01555</td>\n",
       "      <td>Accident</td>\n",
       "      <td>NYC07LA005</td>\n",
       "      <td>1974-08-30</td>\n",
       "      <td>Saltville, VA</td>\n",
       "      <td>United States</td>\n",
       "      <td>36.922223</td>\n",
       "      <td>-81.878056</td>\n",
       "      <td>NaN</td>\n",
       "      <td>NaN</td>\n",
       "      <td>...</td>\n",
       "      <td>Personal</td>\n",
       "      <td>NaN</td>\n",
       "      <td>3.0</td>\n",
       "      <td>NaN</td>\n",
       "      <td>NaN</td>\n",
       "      <td>NaN</td>\n",
       "      <td>IMC</td>\n",
       "      <td>Cruise</td>\n",
       "      <td>Probable Cause</td>\n",
       "      <td>26-02-2007</td>\n",
       "    </tr>\n",
       "    <tr>\n",
       "      <th>3</th>\n",
       "      <td>20001218X45448</td>\n",
       "      <td>Accident</td>\n",
       "      <td>LAX96LA321</td>\n",
       "      <td>1977-06-19</td>\n",
       "      <td>EUREKA, CA</td>\n",
       "      <td>United States</td>\n",
       "      <td>NaN</td>\n",
       "      <td>NaN</td>\n",
       "      <td>NaN</td>\n",
       "      <td>NaN</td>\n",
       "      <td>...</td>\n",
       "      <td>Personal</td>\n",
       "      <td>NaN</td>\n",
       "      <td>2.0</td>\n",
       "      <td>0.0</td>\n",
       "      <td>0.0</td>\n",
       "      <td>0.0</td>\n",
       "      <td>IMC</td>\n",
       "      <td>Cruise</td>\n",
       "      <td>Probable Cause</td>\n",
       "      <td>12-09-2000</td>\n",
       "    </tr>\n",
       "    <tr>\n",
       "      <th>4</th>\n",
       "      <td>20041105X01764</td>\n",
       "      <td>Accident</td>\n",
       "      <td>CHI79FA064</td>\n",
       "      <td>1979-08-02</td>\n",
       "      <td>Canton, OH</td>\n",
       "      <td>United States</td>\n",
       "      <td>NaN</td>\n",
       "      <td>NaN</td>\n",
       "      <td>NaN</td>\n",
       "      <td>NaN</td>\n",
       "      <td>...</td>\n",
       "      <td>Personal</td>\n",
       "      <td>NaN</td>\n",
       "      <td>1.0</td>\n",
       "      <td>2.0</td>\n",
       "      <td>NaN</td>\n",
       "      <td>0.0</td>\n",
       "      <td>VMC</td>\n",
       "      <td>Approach</td>\n",
       "      <td>Probable Cause</td>\n",
       "      <td>16-04-1980</td>\n",
       "    </tr>\n",
       "  </tbody>\n",
       "</table>\n",
       "<p>5 rows × 31 columns</p>\n",
       "</div>"
      ],
      "text/plain": [
       "         Event.Id Investigation.Type Accident.Number  Event.Date  \\\n",
       "0  20001218X45444           Accident      SEA87LA080  1948-10-24   \n",
       "1  20001218X45447           Accident      LAX94LA336  1962-07-19   \n",
       "2  20061025X01555           Accident      NYC07LA005  1974-08-30   \n",
       "3  20001218X45448           Accident      LAX96LA321  1977-06-19   \n",
       "4  20041105X01764           Accident      CHI79FA064  1979-08-02   \n",
       "\n",
       "          Location        Country   Latitude  Longitude Airport.Code  \\\n",
       "0  MOOSE CREEK, ID  United States        NaN        NaN          NaN   \n",
       "1   BRIDGEPORT, CA  United States        NaN        NaN          NaN   \n",
       "2    Saltville, VA  United States  36.922223 -81.878056          NaN   \n",
       "3       EUREKA, CA  United States        NaN        NaN          NaN   \n",
       "4       Canton, OH  United States        NaN        NaN          NaN   \n",
       "\n",
       "  Airport.Name  ... Purpose.of.flight Air.carrier Total.Fatal.Injuries  \\\n",
       "0          NaN  ...          Personal         NaN                  2.0   \n",
       "1          NaN  ...          Personal         NaN                  4.0   \n",
       "2          NaN  ...          Personal         NaN                  3.0   \n",
       "3          NaN  ...          Personal         NaN                  2.0   \n",
       "4          NaN  ...          Personal         NaN                  1.0   \n",
       "\n",
       "  Total.Serious.Injuries Total.Minor.Injuries Total.Uninjured  \\\n",
       "0                    0.0                  0.0             0.0   \n",
       "1                    0.0                  0.0             0.0   \n",
       "2                    NaN                  NaN             NaN   \n",
       "3                    0.0                  0.0             0.0   \n",
       "4                    2.0                  NaN             0.0   \n",
       "\n",
       "  Weather.Condition  Broad.phase.of.flight   Report.Status Publication.Date  \n",
       "0               UNK                 Cruise  Probable Cause              NaN  \n",
       "1               UNK                Unknown  Probable Cause       19-09-1996  \n",
       "2               IMC                 Cruise  Probable Cause       26-02-2007  \n",
       "3               IMC                 Cruise  Probable Cause       12-09-2000  \n",
       "4               VMC               Approach  Probable Cause       16-04-1980  \n",
       "\n",
       "[5 rows x 31 columns]"
      ]
     },
     "execution_count": 3,
     "metadata": {},
     "output_type": "execute_result"
    }
   ],
   "source": [
    "df = pd.read_csv('AviationData.csv', encoding='ISO-8859-1')\n",
    "df.head()"
   ]
  },
  {
   "cell_type": "code",
   "execution_count": 4,
   "metadata": {},
   "outputs": [
    {
     "name": "stdout",
     "output_type": "stream",
     "text": [
      "<class 'pandas.core.frame.DataFrame'>\n",
      "RangeIndex: 88889 entries, 0 to 88888\n",
      "Data columns (total 31 columns):\n",
      " #   Column                  Non-Null Count  Dtype  \n",
      "---  ------                  --------------  -----  \n",
      " 0   Event.Id                88889 non-null  object \n",
      " 1   Investigation.Type      88889 non-null  object \n",
      " 2   Accident.Number         88889 non-null  object \n",
      " 3   Event.Date              88889 non-null  object \n",
      " 4   Location                88837 non-null  object \n",
      " 5   Country                 88663 non-null  object \n",
      " 6   Latitude                34382 non-null  object \n",
      " 7   Longitude               34373 non-null  object \n",
      " 8   Airport.Code            50132 non-null  object \n",
      " 9   Airport.Name            52704 non-null  object \n",
      " 10  Injury.Severity         87889 non-null  object \n",
      " 11  Aircraft.damage         85695 non-null  object \n",
      " 12  Aircraft.Category       32287 non-null  object \n",
      " 13  Registration.Number     87507 non-null  object \n",
      " 14  Make                    88826 non-null  object \n",
      " 15  Model                   88797 non-null  object \n",
      " 16  Amateur.Built           88787 non-null  object \n",
      " 17  Number.of.Engines       82805 non-null  float64\n",
      " 18  Engine.Type             81793 non-null  object \n",
      " 19  FAR.Description         32023 non-null  object \n",
      " 20  Schedule                12582 non-null  object \n",
      " 21  Purpose.of.flight       82697 non-null  object \n",
      " 22  Air.carrier             16648 non-null  object \n",
      " 23  Total.Fatal.Injuries    77488 non-null  float64\n",
      " 24  Total.Serious.Injuries  76379 non-null  float64\n",
      " 25  Total.Minor.Injuries    76956 non-null  float64\n",
      " 26  Total.Uninjured         82977 non-null  float64\n",
      " 27  Weather.Condition       84397 non-null  object \n",
      " 28  Broad.phase.of.flight   61724 non-null  object \n",
      " 29  Report.Status           82505 non-null  object \n",
      " 30  Publication.Date        75118 non-null  object \n",
      "dtypes: float64(5), object(26)\n",
      "memory usage: 21.0+ MB\n"
     ]
    }
   ],
   "source": [
    "# Getting more info about the dataframe\n",
    "df.info()"
   ]
  },
  {
   "cell_type": "markdown",
   "metadata": {},
   "source": [
    "Some columns have missing values"
   ]
  },
  {
   "cell_type": "markdown",
   "metadata": {},
   "source": [
    "### Data-Cleaning"
   ]
  },
  {
   "cell_type": "markdown",
   "metadata": {},
   "source": [
    "#### Handling missing values"
   ]
  },
  {
   "cell_type": "markdown",
   "metadata": {},
   "source": [
    "Checking the percentage of missing data"
   ]
  },
  {
   "cell_type": "code",
   "execution_count": 5,
   "metadata": {},
   "outputs": [
    {
     "data": {
      "text/plain": [
       "Schedule                  76307\n",
       "Air.carrier               72241\n",
       "FAR.Description           56866\n",
       "Aircraft.Category         56602\n",
       "Longitude                 54516\n",
       "Latitude                  54507\n",
       "Airport.Code              38757\n",
       "Airport.Name              36185\n",
       "Broad.phase.of.flight     27165\n",
       "Publication.Date          13771\n",
       "Total.Serious.Injuries    12510\n",
       "Total.Minor.Injuries      11933\n",
       "Total.Fatal.Injuries      11401\n",
       "Engine.Type                7096\n",
       "Report.Status              6384\n",
       "Purpose.of.flight          6192\n",
       "Number.of.Engines          6084\n",
       "Total.Uninjured            5912\n",
       "Weather.Condition          4492\n",
       "Aircraft.damage            3194\n",
       "Registration.Number        1382\n",
       "Injury.Severity            1000\n",
       "Country                     226\n",
       "Amateur.Built               102\n",
       "Model                        92\n",
       "Make                         63\n",
       "Location                     52\n",
       "Investigation.Type            0\n",
       "Event.Date                    0\n",
       "Accident.Number               0\n",
       "Event.Id                      0\n",
       "dtype: int64"
      ]
     },
     "execution_count": 5,
     "metadata": {},
     "output_type": "execute_result"
    }
   ],
   "source": [
    "def missing_values():\n",
    "    \"\"\"Function to check missing data in df\n",
    "    \n",
    "    Returns: (pd.Series) a series of the missing values as percentages\n",
    "    \"\"\"\n",
    "    return df.isna().sum().sort_values(ascending=False)\n",
    "\n",
    "\n",
    "missing_values()"
   ]
  },
  {
   "cell_type": "markdown",
   "metadata": {},
   "source": [
    "\n",
    "Dropping the Air.carrier and Schedule columns, they have a larger percentage of missing values."
   ]
  },
  {
   "cell_type": "code",
   "execution_count": 7,
   "metadata": {},
   "outputs": [
    {
     "data": {
      "text/plain": [
       "Aircraft.Category\n",
       "Airplane             27617\n",
       "Helicopter            3440\n",
       "Glider                 508\n",
       "Balloon                231\n",
       "Gyrocraft              173\n",
       "Weight-Shift           161\n",
       "Powered Parachute       91\n",
       "Ultralight              30\n",
       "Unknown                 14\n",
       "WSFT                     9\n",
       "Powered-Lift             5\n",
       "Blimp                    4\n",
       "UNK                      2\n",
       "Rocket                   1\n",
       "ULTR                     1\n",
       "Name: count, dtype: int64"
      ]
     },
     "execution_count": 7,
     "metadata": {},
     "output_type": "execute_result"
    }
   ],
   "source": [
    "df['Aircraft.Category'].value_counts()"
   ]
  },
  {
   "cell_type": "code",
   "execution_count": null,
   "metadata": {},
   "outputs": [],
   "source": []
  },
  {
   "cell_type": "code",
   "execution_count": 8,
   "metadata": {},
   "outputs": [],
   "source": [
    "df.drop(['Schedule', 'Air.carrier'], axis=1, inplace=True)"
   ]
  },
  {
   "cell_type": "code",
   "execution_count": 9,
   "metadata": {},
   "outputs": [
    {
     "data": {
      "text/plain": [
       "Index(['Event.Id', 'Investigation.Type', 'Accident.Number', 'Event.Date',\n",
       "       'Location', 'Country', 'Latitude', 'Longitude', 'Airport.Code',\n",
       "       'Airport.Name', 'Injury.Severity', 'Aircraft.damage',\n",
       "       'Aircraft.Category', 'Registration.Number', 'Make', 'Model',\n",
       "       'Amateur.Built', 'Number.of.Engines', 'Engine.Type', 'FAR.Description',\n",
       "       'Purpose.of.flight', 'Total.Fatal.Injuries', 'Total.Serious.Injuries',\n",
       "       'Total.Minor.Injuries', 'Total.Uninjured', 'Weather.Condition',\n",
       "       'Broad.phase.of.flight', 'Report.Status', 'Publication.Date'],\n",
       "      dtype='object')"
      ]
     },
     "execution_count": 9,
     "metadata": {},
     "output_type": "execute_result"
    }
   ],
   "source": [
    "df.columns"
   ]
  },
  {
   "cell_type": "markdown",
   "metadata": {},
   "source": [
    "Checking the make and model columns\n"
   ]
  },
  {
   "cell_type": "code",
   "execution_count": 10,
   "metadata": {},
   "outputs": [
    {
     "data": {
      "text/plain": [
       "Make     0.000709\n",
       "Model    0.001035\n",
       "dtype: float64"
      ]
     },
     "execution_count": 10,
     "metadata": {},
     "output_type": "execute_result"
    }
   ],
   "source": [
    "missing_values()[['Make', 'Model']]"
   ]
  },
  {
   "cell_type": "markdown",
   "metadata": {},
   "source": [
    " Drop the few rows with missing entries"
   ]
  },
  {
   "cell_type": "code",
   "execution_count": 11,
   "metadata": {},
   "outputs": [],
   "source": [
    "df.dropna(subset=['Make', 'Model'], inplace=True)"
   ]
  },
  {
   "cell_type": "code",
   "execution_count": 12,
   "metadata": {},
   "outputs": [
    {
     "data": {
      "text/plain": [
       "Make     0\n",
       "Model    0\n",
       "dtype: int64"
      ]
     },
     "execution_count": 12,
     "metadata": {},
     "output_type": "execute_result"
    }
   ],
   "source": [
    "df[['Make', 'Model']].isna().sum()"
   ]
  },
  {
   "cell_type": "markdown",
   "metadata": {},
   "source": [
    "\n",
    "Inputing the mean in place of missing values for columns with continuous data.\n"
   ]
  },
  {
   "cell_type": "code",
   "execution_count": 13,
   "metadata": {},
   "outputs": [
    {
     "data": {
      "text/plain": [
       "Total.Fatal.Injuries      0\n",
       "Total.Serious.Injuries    0\n",
       "Total.Minor.Injuries      0\n",
       "Total.Uninjured           0\n",
       "Number.of.Engines         0\n",
       "dtype: int64"
      ]
     },
     "execution_count": 13,
     "metadata": {},
     "output_type": "execute_result"
    }
   ],
   "source": [
    "# columns with continuous data\n",
    "continuous_data_cols = [\n",
    "    'Total.Fatal.Injuries',\n",
    "    'Total.Serious.Injuries',\n",
    "    'Total.Minor.Injuries',\n",
    "    'Total.Uninjured',\n",
    "    'Number.of.Engines'\n",
    "]\n",
    "\n",
    "for col in continuous_data_cols:\n",
    "    mean = np.floor(df[col].mean())\n",
    "    df[col].fillna(mean, inplace=True)\n",
    "    \n",
    "# confirm no missing values\n",
    "df[continuous_data_cols].isna().sum()"
   ]
  },
  {
   "cell_type": "markdown",
   "metadata": {},
   "source": [
    "Now we check other columns with categorical data"
   ]
  },
  {
   "cell_type": "code",
   "execution_count": 14,
   "metadata": {},
   "outputs": [
    {
     "data": {
      "text/plain": [
       "Amateur.Built\n",
       "No     80240\n",
       "Yes     8438\n",
       "Name: count, dtype: int64"
      ]
     },
     "execution_count": 14,
     "metadata": {},
     "output_type": "execute_result"
    }
   ],
   "source": [
    "df['Amateur.Built'].value_counts()"
   ]
  },
  {
   "cell_type": "markdown",
   "metadata": {},
   "source": [
    "There are only two categories in this column and No appears the most hence we impute it for the missing values"
   ]
  },
  {
   "cell_type": "code",
   "execution_count": 330,
   "metadata": {},
   "outputs": [
    {
     "data": {
      "text/plain": [
       "0"
      ]
     },
     "execution_count": 330,
     "metadata": {},
     "output_type": "execute_result"
    }
   ],
   "source": [
    "df['Amateur.Built'].fillna(\n",
    "    df['Amateur.Built'].mode()[0],\n",
    "    inplace=True\n",
    ")\n",
    "\n",
    "df['Amateur.Built'].isna().sum()"
   ]
  },
  {
   "cell_type": "code",
   "execution_count": 331,
   "metadata": {},
   "outputs": [
    {
     "data": {
      "text/plain": [
       "FAR.Description           0.640267\n",
       "Aircraft.Category         0.636787\n",
       "Longitude                 0.613211\n",
       "Latitude                  0.613109\n",
       "Airport.Code              0.434392\n",
       "Airport.Name              0.405860\n",
       "Broad.phase.of.flight     0.305192\n",
       "Publication.Date          0.155051\n",
       "Engine.Type               0.078917\n",
       "Report.Status             0.071359\n",
       "Purpose.of.flight         0.069140\n",
       "Weather.Condition         0.050002\n",
       "Aircraft.damage           0.035730\n",
       "Registration.Number       0.014362\n",
       "Injury.Severity           0.011028\n",
       "Country                   0.002534\n",
       "Location                  0.000586\n",
       "Event.Date                0.000000\n",
       "Accident.Number           0.000000\n",
       "Investigation.Type        0.000000\n",
       "Make                      0.000000\n",
       "Model                     0.000000\n",
       "Amateur.Built             0.000000\n",
       "Number.of.Engines         0.000000\n",
       "Total.Fatal.Injuries      0.000000\n",
       "Total.Serious.Injuries    0.000000\n",
       "Total.Minor.Injuries      0.000000\n",
       "Total.Uninjured           0.000000\n",
       "Event.Id                  0.000000\n",
       "dtype: float64"
      ]
     },
     "execution_count": 331,
     "metadata": {},
     "output_type": "execute_result"
    }
   ],
   "source": [
    "missing_values()"
   ]
  },
  {
   "cell_type": "code",
   "execution_count": 332,
   "metadata": {},
   "outputs": [
    {
     "data": {
      "text/plain": [
       "Airplane             27580\n",
       "Helicopter            3435\n",
       "Glider                 508\n",
       "Balloon                231\n",
       "Gyrocraft              173\n",
       "Weight-Shift           161\n",
       "Powered Parachute       91\n",
       "Ultralight              30\n",
       "Unknown                 14\n",
       "WSFT                     9\n",
       "Powered-Lift             5\n",
       "Blimp                    4\n",
       "UNK                      2\n",
       "Rocket                   1\n",
       "ULTR                     1\n",
       "Name: Aircraft.Category, dtype: int64"
      ]
     },
     "execution_count": 332,
     "metadata": {},
     "output_type": "execute_result"
    }
   ],
   "source": [
    "df['Aircraft.Category'].value_counts()"
   ]
  },
  {
   "cell_type": "markdown",
   "metadata": {},
   "source": [
    "\n",
    "Creating a new category for missing values in the Aircraft.Category column."
   ]
  },
  {
   "cell_type": "code",
   "execution_count": 333,
   "metadata": {},
   "outputs": [
    {
     "data": {
      "text/plain": [
       "0"
      ]
     },
     "execution_count": 333,
     "metadata": {},
     "output_type": "execute_result"
    }
   ],
   "source": [
    "df['Aircraft.Category'].fillna('missing', inplace=True)\n",
    "df['Aircraft.Category'].isna().sum()"
   ]
  },
  {
   "cell_type": "markdown",
   "metadata": {},
   "source": [
    "Given that the other columns are categorical, we can handle missing values by assigning them a new category, 'missing'.\n",
    "\n",
    "\n",
    "\n",
    "\n",
    "\n"
   ]
  },
  {
   "cell_type": "code",
   "execution_count": 334,
   "metadata": {},
   "outputs": [
    {
     "data": {
      "text/plain": [
       "0"
      ]
     },
     "execution_count": 334,
     "metadata": {},
     "output_type": "execute_result"
    }
   ],
   "source": [
    "df.fillna('missing', inplace=True)\n",
    "df.isna().sum().sum()"
   ]
  },
  {
   "cell_type": "code",
   "execution_count": 335,
   "metadata": {},
   "outputs": [
    {
     "data": {
      "text/html": [
       "<div>\n",
       "<style scoped>\n",
       "    .dataframe tbody tr th:only-of-type {\n",
       "        vertical-align: middle;\n",
       "    }\n",
       "\n",
       "    .dataframe tbody tr th {\n",
       "        vertical-align: top;\n",
       "    }\n",
       "\n",
       "    .dataframe thead th {\n",
       "        text-align: right;\n",
       "    }\n",
       "</style>\n",
       "<table border=\"1\" class=\"dataframe\">\n",
       "  <thead>\n",
       "    <tr style=\"text-align: right;\">\n",
       "      <th></th>\n",
       "      <th>Event.Id</th>\n",
       "      <th>Investigation.Type</th>\n",
       "      <th>Accident.Number</th>\n",
       "      <th>Event.Date</th>\n",
       "      <th>Location</th>\n",
       "      <th>Country</th>\n",
       "      <th>Latitude</th>\n",
       "      <th>Longitude</th>\n",
       "      <th>Airport.Code</th>\n",
       "      <th>Airport.Name</th>\n",
       "      <th>...</th>\n",
       "      <th>FAR.Description</th>\n",
       "      <th>Purpose.of.flight</th>\n",
       "      <th>Total.Fatal.Injuries</th>\n",
       "      <th>Total.Serious.Injuries</th>\n",
       "      <th>Total.Minor.Injuries</th>\n",
       "      <th>Total.Uninjured</th>\n",
       "      <th>Weather.Condition</th>\n",
       "      <th>Broad.phase.of.flight</th>\n",
       "      <th>Report.Status</th>\n",
       "      <th>Publication.Date</th>\n",
       "    </tr>\n",
       "  </thead>\n",
       "  <tbody>\n",
       "    <tr>\n",
       "      <th>0</th>\n",
       "      <td>20001218X45444</td>\n",
       "      <td>Accident</td>\n",
       "      <td>SEA87LA080</td>\n",
       "      <td>1948-10-24</td>\n",
       "      <td>MOOSE CREEK, ID</td>\n",
       "      <td>United States</td>\n",
       "      <td>missing</td>\n",
       "      <td>missing</td>\n",
       "      <td>missing</td>\n",
       "      <td>missing</td>\n",
       "      <td>...</td>\n",
       "      <td>missing</td>\n",
       "      <td>Personal</td>\n",
       "      <td>2.0</td>\n",
       "      <td>0.0</td>\n",
       "      <td>0.0</td>\n",
       "      <td>0.0</td>\n",
       "      <td>UNK</td>\n",
       "      <td>Cruise</td>\n",
       "      <td>Probable Cause</td>\n",
       "      <td>missing</td>\n",
       "    </tr>\n",
       "    <tr>\n",
       "      <th>1</th>\n",
       "      <td>20001218X45447</td>\n",
       "      <td>Accident</td>\n",
       "      <td>LAX94LA336</td>\n",
       "      <td>1962-07-19</td>\n",
       "      <td>BRIDGEPORT, CA</td>\n",
       "      <td>United States</td>\n",
       "      <td>missing</td>\n",
       "      <td>missing</td>\n",
       "      <td>missing</td>\n",
       "      <td>missing</td>\n",
       "      <td>...</td>\n",
       "      <td>missing</td>\n",
       "      <td>Personal</td>\n",
       "      <td>4.0</td>\n",
       "      <td>0.0</td>\n",
       "      <td>0.0</td>\n",
       "      <td>0.0</td>\n",
       "      <td>UNK</td>\n",
       "      <td>Unknown</td>\n",
       "      <td>Probable Cause</td>\n",
       "      <td>19-09-1996</td>\n",
       "    </tr>\n",
       "    <tr>\n",
       "      <th>2</th>\n",
       "      <td>20061025X01555</td>\n",
       "      <td>Accident</td>\n",
       "      <td>NYC07LA005</td>\n",
       "      <td>1974-08-30</td>\n",
       "      <td>Saltville, VA</td>\n",
       "      <td>United States</td>\n",
       "      <td>36.9222</td>\n",
       "      <td>-81.8781</td>\n",
       "      <td>missing</td>\n",
       "      <td>missing</td>\n",
       "      <td>...</td>\n",
       "      <td>missing</td>\n",
       "      <td>Personal</td>\n",
       "      <td>3.0</td>\n",
       "      <td>0.0</td>\n",
       "      <td>0.0</td>\n",
       "      <td>5.0</td>\n",
       "      <td>IMC</td>\n",
       "      <td>Cruise</td>\n",
       "      <td>Probable Cause</td>\n",
       "      <td>26-02-2007</td>\n",
       "    </tr>\n",
       "    <tr>\n",
       "      <th>3</th>\n",
       "      <td>20001218X45448</td>\n",
       "      <td>Accident</td>\n",
       "      <td>LAX96LA321</td>\n",
       "      <td>1977-06-19</td>\n",
       "      <td>EUREKA, CA</td>\n",
       "      <td>United States</td>\n",
       "      <td>missing</td>\n",
       "      <td>missing</td>\n",
       "      <td>missing</td>\n",
       "      <td>missing</td>\n",
       "      <td>...</td>\n",
       "      <td>missing</td>\n",
       "      <td>Personal</td>\n",
       "      <td>2.0</td>\n",
       "      <td>0.0</td>\n",
       "      <td>0.0</td>\n",
       "      <td>0.0</td>\n",
       "      <td>IMC</td>\n",
       "      <td>Cruise</td>\n",
       "      <td>Probable Cause</td>\n",
       "      <td>12-09-2000</td>\n",
       "    </tr>\n",
       "    <tr>\n",
       "      <th>4</th>\n",
       "      <td>20041105X01764</td>\n",
       "      <td>Accident</td>\n",
       "      <td>CHI79FA064</td>\n",
       "      <td>1979-08-02</td>\n",
       "      <td>Canton, OH</td>\n",
       "      <td>United States</td>\n",
       "      <td>missing</td>\n",
       "      <td>missing</td>\n",
       "      <td>missing</td>\n",
       "      <td>missing</td>\n",
       "      <td>...</td>\n",
       "      <td>missing</td>\n",
       "      <td>Personal</td>\n",
       "      <td>1.0</td>\n",
       "      <td>2.0</td>\n",
       "      <td>0.0</td>\n",
       "      <td>0.0</td>\n",
       "      <td>VMC</td>\n",
       "      <td>Approach</td>\n",
       "      <td>Probable Cause</td>\n",
       "      <td>16-04-1980</td>\n",
       "    </tr>\n",
       "  </tbody>\n",
       "</table>\n",
       "<p>5 rows × 29 columns</p>\n",
       "</div>"
      ],
      "text/plain": [
       "         Event.Id Investigation.Type Accident.Number  Event.Date  \\\n",
       "0  20001218X45444           Accident      SEA87LA080  1948-10-24   \n",
       "1  20001218X45447           Accident      LAX94LA336  1962-07-19   \n",
       "2  20061025X01555           Accident      NYC07LA005  1974-08-30   \n",
       "3  20001218X45448           Accident      LAX96LA321  1977-06-19   \n",
       "4  20041105X01764           Accident      CHI79FA064  1979-08-02   \n",
       "\n",
       "          Location        Country Latitude Longitude Airport.Code  \\\n",
       "0  MOOSE CREEK, ID  United States  missing   missing      missing   \n",
       "1   BRIDGEPORT, CA  United States  missing   missing      missing   \n",
       "2    Saltville, VA  United States  36.9222  -81.8781      missing   \n",
       "3       EUREKA, CA  United States  missing   missing      missing   \n",
       "4       Canton, OH  United States  missing   missing      missing   \n",
       "\n",
       "  Airport.Name  ... FAR.Description Purpose.of.flight Total.Fatal.Injuries  \\\n",
       "0      missing  ...         missing          Personal                  2.0   \n",
       "1      missing  ...         missing          Personal                  4.0   \n",
       "2      missing  ...         missing          Personal                  3.0   \n",
       "3      missing  ...         missing          Personal                  2.0   \n",
       "4      missing  ...         missing          Personal                  1.0   \n",
       "\n",
       "  Total.Serious.Injuries Total.Minor.Injuries Total.Uninjured  \\\n",
       "0                    0.0                  0.0             0.0   \n",
       "1                    0.0                  0.0             0.0   \n",
       "2                    0.0                  0.0             5.0   \n",
       "3                    0.0                  0.0             0.0   \n",
       "4                    2.0                  0.0             0.0   \n",
       "\n",
       "  Weather.Condition  Broad.phase.of.flight   Report.Status Publication.Date  \n",
       "0               UNK                 Cruise  Probable Cause          missing  \n",
       "1               UNK                Unknown  Probable Cause       19-09-1996  \n",
       "2               IMC                 Cruise  Probable Cause       26-02-2007  \n",
       "3               IMC                 Cruise  Probable Cause       12-09-2000  \n",
       "4               VMC               Approach  Probable Cause       16-04-1980  \n",
       "\n",
       "[5 rows x 29 columns]"
      ]
     },
     "execution_count": 335,
     "metadata": {},
     "output_type": "execute_result"
    }
   ],
   "source": [
    "df.head()"
   ]
  },
  {
   "cell_type": "markdown",
   "metadata": {},
   "source": [
    "## Data-Integration"
   ]
  },
  {
   "cell_type": "code",
   "execution_count": 336,
   "metadata": {},
   "outputs": [
    {
     "data": {
      "text/html": [
       "<div>\n",
       "<style scoped>\n",
       "    .dataframe tbody tr th:only-of-type {\n",
       "        vertical-align: middle;\n",
       "    }\n",
       "\n",
       "    .dataframe tbody tr th {\n",
       "        vertical-align: top;\n",
       "    }\n",
       "\n",
       "    .dataframe thead th {\n",
       "        text-align: right;\n",
       "    }\n",
       "</style>\n",
       "<table border=\"1\" class=\"dataframe\">\n",
       "  <thead>\n",
       "    <tr style=\"text-align: right;\">\n",
       "      <th></th>\n",
       "      <th>Make</th>\n",
       "      <th>Model</th>\n",
       "    </tr>\n",
       "  </thead>\n",
       "  <tbody>\n",
       "    <tr>\n",
       "      <th>0</th>\n",
       "      <td>Stinson</td>\n",
       "      <td>108-3</td>\n",
       "    </tr>\n",
       "    <tr>\n",
       "      <th>1</th>\n",
       "      <td>Piper</td>\n",
       "      <td>PA24-180</td>\n",
       "    </tr>\n",
       "    <tr>\n",
       "      <th>2</th>\n",
       "      <td>Cessna</td>\n",
       "      <td>172M</td>\n",
       "    </tr>\n",
       "    <tr>\n",
       "      <th>3</th>\n",
       "      <td>Rockwell</td>\n",
       "      <td>112</td>\n",
       "    </tr>\n",
       "    <tr>\n",
       "      <th>4</th>\n",
       "      <td>Cessna</td>\n",
       "      <td>501</td>\n",
       "    </tr>\n",
       "    <tr>\n",
       "      <th>...</th>\n",
       "      <td>...</td>\n",
       "      <td>...</td>\n",
       "    </tr>\n",
       "    <tr>\n",
       "      <th>88884</th>\n",
       "      <td>PIPER</td>\n",
       "      <td>PA-28-151</td>\n",
       "    </tr>\n",
       "    <tr>\n",
       "      <th>88885</th>\n",
       "      <td>BELLANCA</td>\n",
       "      <td>7ECA</td>\n",
       "    </tr>\n",
       "    <tr>\n",
       "      <th>88886</th>\n",
       "      <td>AMERICAN CHAMPION AIRCRAFT</td>\n",
       "      <td>8GCBC</td>\n",
       "    </tr>\n",
       "    <tr>\n",
       "      <th>88887</th>\n",
       "      <td>CESSNA</td>\n",
       "      <td>210N</td>\n",
       "    </tr>\n",
       "    <tr>\n",
       "      <th>88888</th>\n",
       "      <td>PIPER</td>\n",
       "      <td>PA-24-260</td>\n",
       "    </tr>\n",
       "  </tbody>\n",
       "</table>\n",
       "<p>88777 rows × 2 columns</p>\n",
       "</div>"
      ],
      "text/plain": [
       "                             Make      Model\n",
       "0                         Stinson      108-3\n",
       "1                           Piper   PA24-180\n",
       "2                          Cessna       172M\n",
       "3                        Rockwell        112\n",
       "4                          Cessna        501\n",
       "...                           ...        ...\n",
       "88884                       PIPER  PA-28-151\n",
       "88885                    BELLANCA       7ECA\n",
       "88886  AMERICAN CHAMPION AIRCRAFT      8GCBC\n",
       "88887                      CESSNA       210N\n",
       "88888                       PIPER  PA-24-260\n",
       "\n",
       "[88777 rows x 2 columns]"
      ]
     },
     "execution_count": 336,
     "metadata": {},
     "output_type": "execute_result"
    }
   ],
   "source": [
    "df[['Make', 'Model']]"
   ]
  },
  {
   "cell_type": "markdown",
   "metadata": {},
   "source": [
    "The Make field has some names with varying cases. We will standardize these by converting Make to title case and Model to uppercase."
   ]
  },
  {
   "cell_type": "code",
   "execution_count": 337,
   "metadata": {},
   "outputs": [
    {
     "data": {
      "text/html": [
       "<div>\n",
       "<style scoped>\n",
       "    .dataframe tbody tr th:only-of-type {\n",
       "        vertical-align: middle;\n",
       "    }\n",
       "\n",
       "    .dataframe tbody tr th {\n",
       "        vertical-align: top;\n",
       "    }\n",
       "\n",
       "    .dataframe thead th {\n",
       "        text-align: right;\n",
       "    }\n",
       "</style>\n",
       "<table border=\"1\" class=\"dataframe\">\n",
       "  <thead>\n",
       "    <tr style=\"text-align: right;\">\n",
       "      <th></th>\n",
       "      <th>Make</th>\n",
       "      <th>Model</th>\n",
       "    </tr>\n",
       "  </thead>\n",
       "  <tbody>\n",
       "    <tr>\n",
       "      <th>0</th>\n",
       "      <td>Stinson</td>\n",
       "      <td>108-3</td>\n",
       "    </tr>\n",
       "    <tr>\n",
       "      <th>1</th>\n",
       "      <td>Piper</td>\n",
       "      <td>PA24-180</td>\n",
       "    </tr>\n",
       "    <tr>\n",
       "      <th>2</th>\n",
       "      <td>Cessna</td>\n",
       "      <td>172M</td>\n",
       "    </tr>\n",
       "    <tr>\n",
       "      <th>3</th>\n",
       "      <td>Rockwell</td>\n",
       "      <td>112</td>\n",
       "    </tr>\n",
       "    <tr>\n",
       "      <th>4</th>\n",
       "      <td>Cessna</td>\n",
       "      <td>501</td>\n",
       "    </tr>\n",
       "    <tr>\n",
       "      <th>...</th>\n",
       "      <td>...</td>\n",
       "      <td>...</td>\n",
       "    </tr>\n",
       "    <tr>\n",
       "      <th>88884</th>\n",
       "      <td>Piper</td>\n",
       "      <td>PA-28-151</td>\n",
       "    </tr>\n",
       "    <tr>\n",
       "      <th>88885</th>\n",
       "      <td>Bellanca</td>\n",
       "      <td>7ECA</td>\n",
       "    </tr>\n",
       "    <tr>\n",
       "      <th>88886</th>\n",
       "      <td>American Champion Aircraft</td>\n",
       "      <td>8GCBC</td>\n",
       "    </tr>\n",
       "    <tr>\n",
       "      <th>88887</th>\n",
       "      <td>Cessna</td>\n",
       "      <td>210N</td>\n",
       "    </tr>\n",
       "    <tr>\n",
       "      <th>88888</th>\n",
       "      <td>Piper</td>\n",
       "      <td>PA-24-260</td>\n",
       "    </tr>\n",
       "  </tbody>\n",
       "</table>\n",
       "<p>88777 rows × 2 columns</p>\n",
       "</div>"
      ],
      "text/plain": [
       "                             Make      Model\n",
       "0                         Stinson      108-3\n",
       "1                           Piper   PA24-180\n",
       "2                          Cessna       172M\n",
       "3                        Rockwell        112\n",
       "4                          Cessna        501\n",
       "...                           ...        ...\n",
       "88884                       Piper  PA-28-151\n",
       "88885                    Bellanca       7ECA\n",
       "88886  American Champion Aircraft      8GCBC\n",
       "88887                      Cessna       210N\n",
       "88888                       Piper  PA-24-260\n",
       "\n",
       "[88777 rows x 2 columns]"
      ]
     },
     "execution_count": 337,
     "metadata": {},
     "output_type": "execute_result"
    }
   ],
   "source": [
    "df['Make'] = df['Make'].map(\n",
    "    lambda x: x.title()\n",
    ")\n",
    "df['Model'] = df['Model'].map(\n",
    "    lambda x: x.upper()\n",
    ")\n",
    "df[['Make', 'Model']]"
   ]
  },
  {
   "cell_type": "code",
   "execution_count": 338,
   "metadata": {},
   "outputs": [
    {
     "data": {
      "text/plain": [
       "Non-Fatal     67305\n",
       "Fatal(1)       6159\n",
       "Fatal          5248\n",
       "Fatal(2)       3703\n",
       "Incident       2214\n",
       "              ...  \n",
       "Fatal(57)         1\n",
       "Fatal(123)        1\n",
       "Fatal(45)         1\n",
       "Fatal(229)        1\n",
       "Fatal(44)         1\n",
       "Name: Injury.Severity, Length: 110, dtype: int64"
      ]
     },
     "execution_count": 338,
     "metadata": {},
     "output_type": "execute_result"
    }
   ],
   "source": [
    "df['Injury.Severity'].value_counts()"
   ]
  },
  {
   "cell_type": "code",
   "execution_count": 339,
   "metadata": {},
   "outputs": [
    {
     "data": {
      "text/html": [
       "<div>\n",
       "<style scoped>\n",
       "    .dataframe tbody tr th:only-of-type {\n",
       "        vertical-align: middle;\n",
       "    }\n",
       "\n",
       "    .dataframe tbody tr th {\n",
       "        vertical-align: top;\n",
       "    }\n",
       "\n",
       "    .dataframe thead th {\n",
       "        text-align: right;\n",
       "    }\n",
       "</style>\n",
       "<table border=\"1\" class=\"dataframe\">\n",
       "  <thead>\n",
       "    <tr style=\"text-align: right;\">\n",
       "      <th></th>\n",
       "      <th>Injury.Severity</th>\n",
       "      <th>Total.Fatal.Injuries</th>\n",
       "    </tr>\n",
       "  </thead>\n",
       "  <tbody>\n",
       "    <tr>\n",
       "      <th>0</th>\n",
       "      <td>Fatal(2)</td>\n",
       "      <td>2.0</td>\n",
       "    </tr>\n",
       "    <tr>\n",
       "      <th>1</th>\n",
       "      <td>Fatal(4)</td>\n",
       "      <td>4.0</td>\n",
       "    </tr>\n",
       "    <tr>\n",
       "      <th>2</th>\n",
       "      <td>Fatal(3)</td>\n",
       "      <td>3.0</td>\n",
       "    </tr>\n",
       "    <tr>\n",
       "      <th>3</th>\n",
       "      <td>Fatal(2)</td>\n",
       "      <td>2.0</td>\n",
       "    </tr>\n",
       "    <tr>\n",
       "      <th>4</th>\n",
       "      <td>Fatal(1)</td>\n",
       "      <td>1.0</td>\n",
       "    </tr>\n",
       "  </tbody>\n",
       "</table>\n",
       "</div>"
      ],
      "text/plain": [
       "  Injury.Severity  Total.Fatal.Injuries\n",
       "0        Fatal(2)                   2.0\n",
       "1        Fatal(4)                   4.0\n",
       "2        Fatal(3)                   3.0\n",
       "3        Fatal(2)                   2.0\n",
       "4        Fatal(1)                   1.0"
      ]
     },
     "execution_count": 339,
     "metadata": {},
     "output_type": "execute_result"
    }
   ],
   "source": [
    "df[df['Injury.Severity'].str.contains(\n",
    "    'Fatal'\n",
    ")].head()[['Injury.Severity', 'Total.Fatal.Injuries']]"
   ]
  },
  {
   "cell_type": "markdown",
   "metadata": {},
   "source": [
    "The Fatal category has numbers in brackets. We'll just use 'Fatal'.\n",
    "\n",
    "\n",
    "\n",
    "\n",
    "\n"
   ]
  },
  {
   "cell_type": "code",
   "execution_count": 340,
   "metadata": {},
   "outputs": [
    {
     "data": {
      "text/plain": [
       "Non-Fatal      67305\n",
       "Fatal          17793\n",
       "Incident        2214\n",
       "missing          979\n",
       "Minor            218\n",
       "Serious          173\n",
       "Unavailable       95\n",
       "Name: Injury.Severity, dtype: int64"
      ]
     },
     "execution_count": 340,
     "metadata": {},
     "output_type": "execute_result"
    }
   ],
   "source": [
    "df['Injury.Severity'] = df['Injury.Severity'].map(\n",
    "    lambda x: 'Fatal' if 'Fatal(' in x else x\n",
    ")\n",
    "df['Injury.Severity'].value_counts()"
   ]
  },
  {
   "cell_type": "markdown",
   "metadata": {},
   "source": [
    "We have one category for Fatal"
   ]
  },
  {
   "cell_type": "code",
   "execution_count": 341,
   "metadata": {},
   "outputs": [
    {
     "data": {
      "text/plain": [
       "dtype('O')"
      ]
     },
     "execution_count": 341,
     "metadata": {},
     "output_type": "execute_result"
    }
   ],
   "source": [
    "df['Event.Date'].dtype"
   ]
  },
  {
   "cell_type": "markdown",
   "metadata": {},
   "source": [
    "#### Checking for duplicates"
   ]
  },
  {
   "cell_type": "code",
   "execution_count": 342,
   "metadata": {},
   "outputs": [
    {
     "data": {
      "text/plain": [
       "0"
      ]
     },
     "execution_count": 342,
     "metadata": {},
     "output_type": "execute_result"
    }
   ],
   "source": [
    "df.duplicated().sum()"
   ]
  },
  {
   "cell_type": "markdown",
   "metadata": {},
   "source": [
    "Converting  Event date to datetime instead of object"
   ]
  },
  {
   "cell_type": "code",
   "execution_count": 343,
   "metadata": {},
   "outputs": [
    {
     "name": "stdout",
     "output_type": "stream",
     "text": [
      "<class 'pandas.core.frame.DataFrame'>\n",
      "Int64Index: 88777 entries, 0 to 88888\n",
      "Data columns (total 29 columns):\n",
      " #   Column                  Non-Null Count  Dtype         \n",
      "---  ------                  --------------  -----         \n",
      " 0   Event.Id                88777 non-null  object        \n",
      " 1   Investigation.Type      88777 non-null  object        \n",
      " 2   Accident.Number         88777 non-null  object        \n",
      " 3   Event.Date              88777 non-null  datetime64[ns]\n",
      " 4   Location                88777 non-null  object        \n",
      " 5   Country                 88777 non-null  object        \n",
      " 6   Latitude                88777 non-null  object        \n",
      " 7   Longitude               88777 non-null  object        \n",
      " 8   Airport.Code            88777 non-null  object        \n",
      " 9   Airport.Name            88777 non-null  object        \n",
      " 10  Injury.Severity         88777 non-null  object        \n",
      " 11  Aircraft.damage         88777 non-null  object        \n",
      " 12  Aircraft.Category       88777 non-null  object        \n",
      " 13  Registration.Number     88777 non-null  object        \n",
      " 14  Make                    88777 non-null  object        \n",
      " 15  Model                   88777 non-null  object        \n",
      " 16  Amateur.Built           88777 non-null  object        \n",
      " 17  Number.of.Engines       88777 non-null  float64       \n",
      " 18  Engine.Type             88777 non-null  object        \n",
      " 19  FAR.Description         88777 non-null  object        \n",
      " 20  Purpose.of.flight       88777 non-null  object        \n",
      " 21  Total.Fatal.Injuries    88777 non-null  float64       \n",
      " 22  Total.Serious.Injuries  88777 non-null  float64       \n",
      " 23  Total.Minor.Injuries    88777 non-null  float64       \n",
      " 24  Total.Uninjured         88777 non-null  float64       \n",
      " 25  Weather.Condition       88777 non-null  object        \n",
      " 26  Broad.phase.of.flight   88777 non-null  object        \n",
      " 27  Report.Status           88777 non-null  object        \n",
      " 28  Publication.Date        88777 non-null  object        \n",
      "dtypes: datetime64[ns](1), float64(5), object(23)\n",
      "memory usage: 20.3+ MB\n"
     ]
    }
   ],
   "source": [
    "df['Event.Date'] = pd.to_datetime(df['Event.Date'])\n",
    "df.info()"
   ]
  },
  {
   "cell_type": "markdown",
   "metadata": {},
   "source": [
    "Creating new column for Year of occurence"
   ]
  },
  {
   "cell_type": "code",
   "execution_count": 344,
   "metadata": {},
   "outputs": [],
   "source": [
    "df['year'] = df['Event.Date'].map(\n",
    "    lambda x: x.year\n",
    ")"
   ]
  },
  {
   "cell_type": "code",
   "execution_count": 345,
   "metadata": {},
   "outputs": [
    {
     "data": {
      "text/plain": [
       "Index(['Event.Id', 'Investigation.Type', 'Accident.Number', 'Event.Date',\n",
       "       'Location', 'Country', 'Latitude', 'Longitude', 'Airport.Code',\n",
       "       'Airport.Name', 'Injury.Severity', 'Aircraft.damage',\n",
       "       'Aircraft.Category', 'Registration.Number', 'Make', 'Model',\n",
       "       'Amateur.Built', 'Number.of.Engines', 'Engine.Type', 'FAR.Description',\n",
       "       'Purpose.of.flight', 'Total.Fatal.Injuries', 'Total.Serious.Injuries',\n",
       "       'Total.Minor.Injuries', 'Total.Uninjured', 'Weather.Condition',\n",
       "       'Broad.phase.of.flight', 'Report.Status', 'Publication.Date', 'year'],\n",
       "      dtype='object')"
      ]
     },
     "execution_count": 345,
     "metadata": {},
     "output_type": "execute_result"
    }
   ],
   "source": [
    "df.columns"
   ]
  },
  {
   "cell_type": "markdown",
   "metadata": {},
   "source": [
    "Creating new column for total number of injured people"
   ]
  },
  {
   "cell_type": "code",
   "execution_count": 346,
   "metadata": {},
   "outputs": [],
   "source": [
    "df['Total.Injured'] = (\n",
    "    df['Total.Fatal.Injuries'] +\n",
    "    df['Total.Minor.Injuries'] +\n",
    "    df['Total.Serious.Injuries']\n",
    ")"
   ]
  },
  {
   "cell_type": "markdown",
   "metadata": {},
   "source": [
    "Creating unique name for each aircraft by combining the make and model\n",
    "\n"
   ]
  },
  {
   "cell_type": "code",
   "execution_count": 347,
   "metadata": {},
   "outputs": [],
   "source": [
    "df['Aircraft.Name'] = df['Make'] + '_' + df['Model']"
   ]
  },
  {
   "cell_type": "code",
   "execution_count": 348,
   "metadata": {},
   "outputs": [
    {
     "data": {
      "text/plain": [
       "Index(['Event.Id', 'Investigation.Type', 'Accident.Number', 'Event.Date',\n",
       "       'Location', 'Country', 'Latitude', 'Longitude', 'Airport.Code',\n",
       "       'Airport.Name', 'Injury.Severity', 'Aircraft.damage',\n",
       "       'Aircraft.Category', 'Registration.Number', 'Make', 'Model',\n",
       "       'Amateur.Built', 'Number.of.Engines', 'Engine.Type', 'FAR.Description',\n",
       "       'Purpose.of.flight', 'Total.Fatal.Injuries', 'Total.Serious.Injuries',\n",
       "       'Total.Minor.Injuries', 'Total.Uninjured', 'Weather.Condition',\n",
       "       'Broad.phase.of.flight', 'Report.Status', 'Publication.Date', 'year',\n",
       "       'Total.Injured', 'Aircraft.Name'],\n",
       "      dtype='object')"
      ]
     },
     "execution_count": 348,
     "metadata": {},
     "output_type": "execute_result"
    }
   ],
   "source": [
    "df.columns"
   ]
  },
  {
   "cell_type": "markdown",
   "metadata": {},
   "source": [
    "### Distribution of accidents and incidents over the years"
   ]
  },
  {
   "cell_type": "markdown",
   "metadata": {},
   "source": [
    "Creating a plot to visualize the trend of accidents and incidents over the years.\n",
    "\n",
    "\n",
    "\n",
    "\n",
    "\n"
   ]
  },
  {
   "cell_type": "code",
   "execution_count": 349,
   "metadata": {},
   "outputs": [
    {
     "data": {
      "text/html": [
       "<div>\n",
       "<style scoped>\n",
       "    .dataframe tbody tr th:only-of-type {\n",
       "        vertical-align: middle;\n",
       "    }\n",
       "\n",
       "    .dataframe tbody tr th {\n",
       "        vertical-align: top;\n",
       "    }\n",
       "\n",
       "    .dataframe thead th {\n",
       "        text-align: right;\n",
       "    }\n",
       "</style>\n",
       "<table border=\"1\" class=\"dataframe\">\n",
       "  <thead>\n",
       "    <tr style=\"text-align: right;\">\n",
       "      <th></th>\n",
       "      <th>year</th>\n",
       "      <th>Accident</th>\n",
       "      <th>Incident</th>\n",
       "    </tr>\n",
       "  </thead>\n",
       "  <tbody>\n",
       "    <tr>\n",
       "      <th>0</th>\n",
       "      <td>1948</td>\n",
       "      <td>1</td>\n",
       "      <td>0</td>\n",
       "    </tr>\n",
       "    <tr>\n",
       "      <th>1</th>\n",
       "      <td>1962</td>\n",
       "      <td>1</td>\n",
       "      <td>0</td>\n",
       "    </tr>\n",
       "    <tr>\n",
       "      <th>2</th>\n",
       "      <td>1974</td>\n",
       "      <td>1</td>\n",
       "      <td>0</td>\n",
       "    </tr>\n",
       "    <tr>\n",
       "      <th>3</th>\n",
       "      <td>1977</td>\n",
       "      <td>1</td>\n",
       "      <td>0</td>\n",
       "    </tr>\n",
       "    <tr>\n",
       "      <th>4</th>\n",
       "      <td>1979</td>\n",
       "      <td>2</td>\n",
       "      <td>0</td>\n",
       "    </tr>\n",
       "  </tbody>\n",
       "</table>\n",
       "</div>"
      ],
      "text/plain": [
       "   year  Accident  Incident\n",
       "0  1948         1         0\n",
       "1  1962         1         0\n",
       "2  1974         1         0\n",
       "3  1977         1         0\n",
       "4  1979         2         0"
      ]
     },
     "execution_count": 349,
     "metadata": {},
     "output_type": "execute_result"
    }
   ],
   "source": [
    "# Accidents and incidents count df\n",
    "accident_incident_years = df.groupby(\n",
    "    'year'\n",
    ")['Investigation.Type'].value_counts().unstack(fill_value=0).reset_index()\n",
    "\n",
    "accident_incident_years.columns.name = \"\"\n",
    "accident_incident_years.head()"
   ]
  },
  {
   "cell_type": "code",
   "execution_count": 350,
   "metadata": {},
   "outputs": [
    {
     "data": {
      "image/png": "[encoded data removed]",
      "text/plain": [
       "<Figure size 864x576 with 2 Axes>"
      ]
     },
     "metadata": {
      "needs_background": "light"
     },
     "output_type": "display_data"
    }
   ],
   "source": [
    "# plotting the distribution\n",
    "\n",
    "# creating the figure and axis\n",
    "fig, axes = plt.subplots(figsize=(12, 8), nrows=1, ncols=2)\n",
    "\n",
    "# Plotting Accidents\n",
    "sns.lineplot(\n",
    "    data=accident_incident_years,\n",
    "    x='year',\n",
    "    y='Accident',\n",
    "    label='Accidents',\n",
    "    ax=axes[0]\n",
    ")\n",
    "\n",
    "# plotting incidents\n",
    "sns.lineplot(\n",
    "    data=accident_incident_years,\n",
    "    x='year',\n",
    "    y='Incident',\n",
    "    label='Incidents',\n",
    "    ax=axes[1]\n",
    ")\n",
    "\n",
    "axes[0].set_title('Distribution of Accidents over the years')\n",
    "axes[1].set_title('Distribution of Incidents over the years')\n",
    "\n",
    "plt.legend();"
   ]
  },
  {
   "cell_type": "markdown",
   "metadata": {},
   "source": [
    "There was a significant increase in accident cases after 1980, but the number of cases has been declining since then.\n",
    "\n",
    "There is also a significant increase in incidents from 1980 after which they stabilized."
   ]
  },
  {
   "cell_type": "markdown",
   "metadata": {},
   "source": [
    "** Apply a filter to only include Airplanes\n"
   ]
  },
  {
   "cell_type": "code",
   "execution_count": 351,
   "metadata": {},
   "outputs": [
    {
     "data": {
      "text/html": [
       "<div>\n",
       "<style scoped>\n",
       "    .dataframe tbody tr th:only-of-type {\n",
       "        vertical-align: middle;\n",
       "    }\n",
       "\n",
       "    .dataframe tbody tr th {\n",
       "        vertical-align: top;\n",
       "    }\n",
       "\n",
       "    .dataframe thead th {\n",
       "        text-align: right;\n",
       "    }\n",
       "</style>\n",
       "<table border=\"1\" class=\"dataframe\">\n",
       "  <thead>\n",
       "    <tr style=\"text-align: right;\">\n",
       "      <th></th>\n",
       "      <th>Event.Id</th>\n",
       "      <th>Investigation.Type</th>\n",
       "      <th>Accident.Number</th>\n",
       "      <th>Event.Date</th>\n",
       "      <th>Location</th>\n",
       "      <th>Country</th>\n",
       "      <th>Latitude</th>\n",
       "      <th>Longitude</th>\n",
       "      <th>Airport.Code</th>\n",
       "      <th>Airport.Name</th>\n",
       "      <th>...</th>\n",
       "      <th>Total.Serious.Injuries</th>\n",
       "      <th>Total.Minor.Injuries</th>\n",
       "      <th>Total.Uninjured</th>\n",
       "      <th>Weather.Condition</th>\n",
       "      <th>Broad.phase.of.flight</th>\n",
       "      <th>Report.Status</th>\n",
       "      <th>Publication.Date</th>\n",
       "      <th>year</th>\n",
       "      <th>Total.Injured</th>\n",
       "      <th>Aircraft.Name</th>\n",
       "    </tr>\n",
       "  </thead>\n",
       "  <tbody>\n",
       "    <tr>\n",
       "      <th>5</th>\n",
       "      <td>20170710X52551</td>\n",
       "      <td>Accident</td>\n",
       "      <td>NYC79AA106</td>\n",
       "      <td>1979-09-17</td>\n",
       "      <td>BOSTON, MA</td>\n",
       "      <td>United States</td>\n",
       "      <td>42.4453</td>\n",
       "      <td>-70.7583</td>\n",
       "      <td>missing</td>\n",
       "      <td>missing</td>\n",
       "      <td>...</td>\n",
       "      <td>0.0</td>\n",
       "      <td>1.0</td>\n",
       "      <td>44.0</td>\n",
       "      <td>VMC</td>\n",
       "      <td>Climb</td>\n",
       "      <td>Probable Cause</td>\n",
       "      <td>19-09-2017</td>\n",
       "      <td>1979</td>\n",
       "      <td>1.0</td>\n",
       "      <td>Mcdonnell Douglas_DC9</td>\n",
       "    </tr>\n",
       "    <tr>\n",
       "      <th>7</th>\n",
       "      <td>20020909X01562</td>\n",
       "      <td>Accident</td>\n",
       "      <td>SEA82DA022</td>\n",
       "      <td>1982-01-01</td>\n",
       "      <td>PULLMAN, WA</td>\n",
       "      <td>United States</td>\n",
       "      <td>missing</td>\n",
       "      <td>missing</td>\n",
       "      <td>missing</td>\n",
       "      <td>BLACKBURN AG STRIP</td>\n",
       "      <td>...</td>\n",
       "      <td>0.0</td>\n",
       "      <td>0.0</td>\n",
       "      <td>2.0</td>\n",
       "      <td>VMC</td>\n",
       "      <td>Takeoff</td>\n",
       "      <td>Probable Cause</td>\n",
       "      <td>01-01-1982</td>\n",
       "      <td>1982</td>\n",
       "      <td>0.0</td>\n",
       "      <td>Cessna_140</td>\n",
       "    </tr>\n",
       "    <tr>\n",
       "      <th>8</th>\n",
       "      <td>20020909X01561</td>\n",
       "      <td>Accident</td>\n",
       "      <td>NYC82DA015</td>\n",
       "      <td>1982-01-01</td>\n",
       "      <td>EAST HANOVER, NJ</td>\n",
       "      <td>United States</td>\n",
       "      <td>missing</td>\n",
       "      <td>missing</td>\n",
       "      <td>N58</td>\n",
       "      <td>HANOVER</td>\n",
       "      <td>...</td>\n",
       "      <td>0.0</td>\n",
       "      <td>0.0</td>\n",
       "      <td>2.0</td>\n",
       "      <td>IMC</td>\n",
       "      <td>Landing</td>\n",
       "      <td>Probable Cause</td>\n",
       "      <td>01-01-1982</td>\n",
       "      <td>1982</td>\n",
       "      <td>0.0</td>\n",
       "      <td>Cessna_401B</td>\n",
       "    </tr>\n",
       "    <tr>\n",
       "      <th>12</th>\n",
       "      <td>20020917X02148</td>\n",
       "      <td>Accident</td>\n",
       "      <td>FTW82FRJ07</td>\n",
       "      <td>1982-01-02</td>\n",
       "      <td>HOMER, LA</td>\n",
       "      <td>United States</td>\n",
       "      <td>missing</td>\n",
       "      <td>missing</td>\n",
       "      <td>missing</td>\n",
       "      <td>missing</td>\n",
       "      <td>...</td>\n",
       "      <td>0.0</td>\n",
       "      <td>1.0</td>\n",
       "      <td>0.0</td>\n",
       "      <td>IMC</td>\n",
       "      <td>Cruise</td>\n",
       "      <td>Probable Cause</td>\n",
       "      <td>02-01-1983</td>\n",
       "      <td>1982</td>\n",
       "      <td>1.0</td>\n",
       "      <td>Bellanca_17-30A</td>\n",
       "    </tr>\n",
       "    <tr>\n",
       "      <th>13</th>\n",
       "      <td>20020917X02134</td>\n",
       "      <td>Accident</td>\n",
       "      <td>FTW82FRA14</td>\n",
       "      <td>1982-01-02</td>\n",
       "      <td>HEARNE, TX</td>\n",
       "      <td>United States</td>\n",
       "      <td>missing</td>\n",
       "      <td>missing</td>\n",
       "      <td>T72</td>\n",
       "      <td>HEARNE MUNICIPAL</td>\n",
       "      <td>...</td>\n",
       "      <td>0.0</td>\n",
       "      <td>0.0</td>\n",
       "      <td>0.0</td>\n",
       "      <td>IMC</td>\n",
       "      <td>Takeoff</td>\n",
       "      <td>Probable Cause</td>\n",
       "      <td>02-01-1983</td>\n",
       "      <td>1982</td>\n",
       "      <td>1.0</td>\n",
       "      <td>Cessna_R172K</td>\n",
       "    </tr>\n",
       "  </tbody>\n",
       "</table>\n",
       "<p>5 rows × 32 columns</p>\n",
       "</div>"
      ],
      "text/plain": [
       "          Event.Id Investigation.Type Accident.Number Event.Date  \\\n",
       "5   20170710X52551           Accident      NYC79AA106 1979-09-17   \n",
       "7   20020909X01562           Accident      SEA82DA022 1982-01-01   \n",
       "8   20020909X01561           Accident      NYC82DA015 1982-01-01   \n",
       "12  20020917X02148           Accident      FTW82FRJ07 1982-01-02   \n",
       "13  20020917X02134           Accident      FTW82FRA14 1982-01-02   \n",
       "\n",
       "            Location        Country Latitude Longitude Airport.Code  \\\n",
       "5         BOSTON, MA  United States  42.4453  -70.7583      missing   \n",
       "7        PULLMAN, WA  United States  missing   missing      missing   \n",
       "8   EAST HANOVER, NJ  United States  missing   missing          N58   \n",
       "12         HOMER, LA  United States  missing   missing      missing   \n",
       "13        HEARNE, TX  United States  missing   missing          T72   \n",
       "\n",
       "          Airport.Name  ... Total.Serious.Injuries Total.Minor.Injuries  \\\n",
       "5              missing  ...                    0.0                  1.0   \n",
       "7   BLACKBURN AG STRIP  ...                    0.0                  0.0   \n",
       "8              HANOVER  ...                    0.0                  0.0   \n",
       "12             missing  ...                    0.0                  1.0   \n",
       "13    HEARNE MUNICIPAL  ...                    0.0                  0.0   \n",
       "\n",
       "   Total.Uninjured Weather.Condition Broad.phase.of.flight   Report.Status  \\\n",
       "5             44.0               VMC                 Climb  Probable Cause   \n",
       "7              2.0               VMC               Takeoff  Probable Cause   \n",
       "8              2.0               IMC               Landing  Probable Cause   \n",
       "12             0.0               IMC                Cruise  Probable Cause   \n",
       "13             0.0               IMC               Takeoff  Probable Cause   \n",
       "\n",
       "   Publication.Date  year Total.Injured          Aircraft.Name  \n",
       "5        19-09-2017  1979           1.0  Mcdonnell Douglas_DC9  \n",
       "7        01-01-1982  1982           0.0             Cessna_140  \n",
       "8        01-01-1982  1982           0.0            Cessna_401B  \n",
       "12       02-01-1983  1982           1.0        Bellanca_17-30A  \n",
       "13       02-01-1983  1982           1.0           Cessna_R172K  \n",
       "\n",
       "[5 rows x 32 columns]"
      ]
     },
     "execution_count": 351,
     "metadata": {},
     "output_type": "execute_result"
    }
   ],
   "source": [
    "df = df[df['Aircraft.Category'] == 'Airplane']\n",
    "df.head()"
   ]
  },
  {
   "cell_type": "markdown",
   "metadata": {},
   "source": [
    "### Risk-Metrics"
   ]
  },
  {
   "cell_type": "markdown",
   "metadata": {},
   "source": [
    "#### 1.Accident-Incident-occurences"
   ]
  },
  {
   "cell_type": "markdown",
   "metadata": {},
   "source": [
    "Checking to see the aircraft models with the least number of accident and incident cases."
   ]
  },
  {
   "cell_type": "code",
   "execution_count": 352,
   "metadata": {},
   "outputs": [
    {
     "data": {
      "text/html": [
       "<div>\n",
       "<style scoped>\n",
       "    .dataframe tbody tr th:only-of-type {\n",
       "        vertical-align: middle;\n",
       "    }\n",
       "\n",
       "    .dataframe tbody tr th {\n",
       "        vertical-align: top;\n",
       "    }\n",
       "\n",
       "    .dataframe thead th {\n",
       "        text-align: right;\n",
       "    }\n",
       "</style>\n",
       "<table border=\"1\" class=\"dataframe\">\n",
       "  <thead>\n",
       "    <tr style=\"text-align: right;\">\n",
       "      <th></th>\n",
       "      <th>Aircraft.Name</th>\n",
       "      <th>Accident</th>\n",
       "      <th>Incident</th>\n",
       "    </tr>\n",
       "  </thead>\n",
       "  <tbody>\n",
       "    <tr>\n",
       "      <th>0</th>\n",
       "      <td>177Mf Llc_PITTS MODEL 12</td>\n",
       "      <td>1</td>\n",
       "      <td>0</td>\n",
       "    </tr>\n",
       "    <tr>\n",
       "      <th>1</th>\n",
       "      <td>2007 Savage Air Llc_EPIC LT</td>\n",
       "      <td>0</td>\n",
       "      <td>1</td>\n",
       "    </tr>\n",
       "    <tr>\n",
       "      <th>2</th>\n",
       "      <td>2021Fx3 Llc_CCX-2000</td>\n",
       "      <td>2</td>\n",
       "      <td>0</td>\n",
       "    </tr>\n",
       "    <tr>\n",
       "      <th>3</th>\n",
       "      <td>3Xtrim_450 ULTRA</td>\n",
       "      <td>1</td>\n",
       "      <td>0</td>\n",
       "    </tr>\n",
       "    <tr>\n",
       "      <th>4</th>\n",
       "      <td>5 Rivers Llc_SQ-2</td>\n",
       "      <td>1</td>\n",
       "      <td>0</td>\n",
       "    </tr>\n",
       "    <tr>\n",
       "      <th>...</th>\n",
       "      <td>...</td>\n",
       "      <td>...</td>\n",
       "      <td>...</td>\n",
       "    </tr>\n",
       "    <tr>\n",
       "      <th>7488</th>\n",
       "      <td>Zlin_Z50</td>\n",
       "      <td>1</td>\n",
       "      <td>0</td>\n",
       "    </tr>\n",
       "    <tr>\n",
       "      <th>7489</th>\n",
       "      <td>Zodiac_601XL</td>\n",
       "      <td>1</td>\n",
       "      <td>0</td>\n",
       "    </tr>\n",
       "    <tr>\n",
       "      <th>7490</th>\n",
       "      <td>Zubair S Khan_RAVEN</td>\n",
       "      <td>1</td>\n",
       "      <td>0</td>\n",
       "    </tr>\n",
       "    <tr>\n",
       "      <th>7491</th>\n",
       "      <td>Zuber Thomas P_ZUBER SUPER DRIFTER</td>\n",
       "      <td>1</td>\n",
       "      <td>0</td>\n",
       "    </tr>\n",
       "    <tr>\n",
       "      <th>7492</th>\n",
       "      <td>Zwicker Murray R_GLASTAR</td>\n",
       "      <td>1</td>\n",
       "      <td>0</td>\n",
       "    </tr>\n",
       "  </tbody>\n",
       "</table>\n",
       "<p>7493 rows × 3 columns</p>\n",
       "</div>"
      ],
      "text/plain": [
       "                           Aircraft.Name  Accident  Incident\n",
       "0               177Mf Llc_PITTS MODEL 12         1         0\n",
       "1            2007 Savage Air Llc_EPIC LT         0         1\n",
       "2                   2021Fx3 Llc_CCX-2000         2         0\n",
       "3                       3Xtrim_450 ULTRA         1         0\n",
       "4                      5 Rivers Llc_SQ-2         1         0\n",
       "...                                  ...       ...       ...\n",
       "7488                            Zlin_Z50         1         0\n",
       "7489                        Zodiac_601XL         1         0\n",
       "7490                 Zubair S Khan_RAVEN         1         0\n",
       "7491  Zuber Thomas P_ZUBER SUPER DRIFTER         1         0\n",
       "7492            Zwicker Murray R_GLASTAR         1         0\n",
       "\n",
       "[7493 rows x 3 columns]"
      ]
     },
     "execution_count": 352,
     "metadata": {},
     "output_type": "execute_result"
    }
   ],
   "source": [
    "# the count of accidents and incidents for each model\n",
    "accident_incident_count_df = df.groupby(\n",
    "    'Aircraft.Name'\n",
    ")['Investigation.Type'].value_counts().unstack(fill_value=0).reset_index()\n",
    "\n",
    "\n",
    "accident_incident_count_df.columns.name = \"\"\n",
    "accident_incident_count_df"
   ]
  },
  {
   "cell_type": "markdown",
   "metadata": {},
   "source": [
    "Adding new column for total count"
   ]
  },
  {
   "cell_type": "code",
   "execution_count": 353,
   "metadata": {},
   "outputs": [],
   "source": [
    "accident_incident_count_df['total_count'] = (\n",
    "    accident_incident_count_df['Accident'] +\n",
    "    accident_incident_count_df['Incident']\n",
    ")"
   ]
  },
  {
   "cell_type": "markdown",
   "metadata": {},
   "source": [
    "Identifying the least risky option based on the lowest count of accidents and incidents:\n",
    "\n",
    "- Should have the smallest total count\n",
    "- Minimal accident\n",
    "- Fewest incidents"
   ]
  },
  {
   "cell_type": "code",
   "execution_count": 354,
   "metadata": {},
   "outputs": [
    {
     "data": {
      "text/plain": [
       "1"
      ]
     },
     "execution_count": 354,
     "metadata": {},
     "output_type": "execute_result"
    }
   ],
   "source": [
    "lowest_count = accident_incident_count_df['total_count'].min()\n",
    "lowest_count"
   ]
  },
  {
   "cell_type": "markdown",
   "metadata": {},
   "source": [
    "Apply filter to get those models with lowest count and no accidents"
   ]
  },
  {
   "cell_type": "code",
   "execution_count": 355,
   "metadata": {},
   "outputs": [
    {
     "data": {
      "text/html": [
       "<div>\n",
       "<style scoped>\n",
       "    .dataframe tbody tr th:only-of-type {\n",
       "        vertical-align: middle;\n",
       "    }\n",
       "\n",
       "    .dataframe tbody tr th {\n",
       "        vertical-align: top;\n",
       "    }\n",
       "\n",
       "    .dataframe thead th {\n",
       "        text-align: right;\n",
       "    }\n",
       "</style>\n",
       "<table border=\"1\" class=\"dataframe\">\n",
       "  <thead>\n",
       "    <tr style=\"text-align: right;\">\n",
       "      <th></th>\n",
       "      <th>Aircraft.Name</th>\n",
       "      <th>Accident</th>\n",
       "      <th>Incident</th>\n",
       "      <th>total_count</th>\n",
       "    </tr>\n",
       "  </thead>\n",
       "  <tbody>\n",
       "    <tr>\n",
       "      <th>1</th>\n",
       "      <td>2007 Savage Air Llc_EPIC LT</td>\n",
       "      <td>0</td>\n",
       "      <td>1</td>\n",
       "      <td>1</td>\n",
       "    </tr>\n",
       "    <tr>\n",
       "      <th>6</th>\n",
       "      <td>777_FF2</td>\n",
       "      <td>0</td>\n",
       "      <td>1</td>\n",
       "      <td>1</td>\n",
       "    </tr>\n",
       "    <tr>\n",
       "      <th>269</th>\n",
       "      <td>Airbus Industrie_300B4-200</td>\n",
       "      <td>0</td>\n",
       "      <td>1</td>\n",
       "      <td>1</td>\n",
       "    </tr>\n",
       "    <tr>\n",
       "      <th>274</th>\n",
       "      <td>Airbus Industrie_A300</td>\n",
       "      <td>0</td>\n",
       "      <td>1</td>\n",
       "      <td>1</td>\n",
       "    </tr>\n",
       "    <tr>\n",
       "      <th>276</th>\n",
       "      <td>Airbus Industrie_A300B4-622R</td>\n",
       "      <td>0</td>\n",
       "      <td>1</td>\n",
       "      <td>1</td>\n",
       "    </tr>\n",
       "    <tr>\n",
       "      <th>...</th>\n",
       "      <td>...</td>\n",
       "      <td>...</td>\n",
       "      <td>...</td>\n",
       "      <td>...</td>\n",
       "    </tr>\n",
       "    <tr>\n",
       "      <th>7005</th>\n",
       "      <td>Tomisin Thomas J_RUTAN LONG EZ</td>\n",
       "      <td>0</td>\n",
       "      <td>1</td>\n",
       "      <td>1</td>\n",
       "    </tr>\n",
       "    <tr>\n",
       "      <th>7023</th>\n",
       "      <td>Ttx Air Llc_LANCAIR</td>\n",
       "      <td>0</td>\n",
       "      <td>1</td>\n",
       "      <td>1</td>\n",
       "    </tr>\n",
       "    <tr>\n",
       "      <th>7032</th>\n",
       "      <td>Turbo Thrush_S2R</td>\n",
       "      <td>0</td>\n",
       "      <td>1</td>\n",
       "      <td>1</td>\n",
       "    </tr>\n",
       "    <tr>\n",
       "      <th>7047</th>\n",
       "      <td>Ultramagic Sa_T210</td>\n",
       "      <td>0</td>\n",
       "      <td>1</td>\n",
       "      <td>1</td>\n",
       "    </tr>\n",
       "    <tr>\n",
       "      <th>7054</th>\n",
       "      <td>Univar_415-C/D</td>\n",
       "      <td>0</td>\n",
       "      <td>1</td>\n",
       "      <td>1</td>\n",
       "    </tr>\n",
       "  </tbody>\n",
       "</table>\n",
       "<p>313 rows × 4 columns</p>\n",
       "</div>"
      ],
      "text/plain": [
       "                       Aircraft.Name  Accident  Incident  total_count\n",
       "1        2007 Savage Air Llc_EPIC LT         0         1            1\n",
       "6                            777_FF2         0         1            1\n",
       "269       Airbus Industrie_300B4-200         0         1            1\n",
       "274            Airbus Industrie_A300         0         1            1\n",
       "276     Airbus Industrie_A300B4-622R         0         1            1\n",
       "...                              ...       ...       ...          ...\n",
       "7005  Tomisin Thomas J_RUTAN LONG EZ         0         1            1\n",
       "7023             Ttx Air Llc_LANCAIR         0         1            1\n",
       "7032                Turbo Thrush_S2R         0         1            1\n",
       "7047              Ultramagic Sa_T210         0         1            1\n",
       "7054                  Univar_415-C/D         0         1            1\n",
       "\n",
       "[313 rows x 4 columns]"
      ]
     },
     "execution_count": 355,
     "metadata": {},
     "output_type": "execute_result"
    }
   ],
   "source": [
    "first_metric_lowest_risk = accident_incident_count_df.loc[\n",
    "    (accident_incident_count_df['total_count'] == 1) &\n",
    "    (accident_incident_count_df['Accident'] == 0)\n",
    "]\n",
    "\n",
    "first_metric_lowest_risk"
   ]
  },
  {
   "cell_type": "code",
   "execution_count": 356,
   "metadata": {},
   "outputs": [],
   "source": [
    "first_metric_final_airplanes = list(first_metric_lowest_risk['Aircraft.Name'])"
   ]
  },
  {
   "cell_type": "markdown",
   "metadata": {},
   "source": [
    "We now have the models that have registered incidents but no accidents. These are deemed the lowest risk based on the first metric."
   ]
  },
  {
   "cell_type": "markdown",
   "metadata": {},
   "source": [
    "Filtering entire df to contain only our lowest risk airplanes according to first risk metric"
   ]
  },
  {
   "cell_type": "code",
   "execution_count": 357,
   "metadata": {},
   "outputs": [],
   "source": [
    "first_metric_df = df.set_index('Aircraft.Name').loc[first_metric_final_airplanes]"
   ]
  },
  {
   "cell_type": "markdown",
   "metadata": {},
   "source": [
    "#### 2.Injuries"
   ]
  },
  {
   "cell_type": "markdown",
   "metadata": {},
   "source": [
    "Checking to remove the models with high number of incident causing injuries"
   ]
  },
  {
   "cell_type": "code",
   "execution_count": 358,
   "metadata": {},
   "outputs": [
    {
     "data": {
      "text/plain": [
       "Non-Fatal      21041\n",
       "Fatal           5171\n",
       "missing          812\n",
       "Incident         244\n",
       "Minor            165\n",
       "Serious          127\n",
       "Unavailable       20\n",
       "Name: Injury.Severity, dtype: int64"
      ]
     },
     "execution_count": 358,
     "metadata": {},
     "output_type": "execute_result"
    }
   ],
   "source": [
    "df['Injury.Severity'].value_counts()"
   ]
  },
  {
   "cell_type": "markdown",
   "metadata": {},
   "source": [
    "##### Trying to understand the Unavailable column"
   ]
  },
  {
   "cell_type": "code",
   "execution_count": 359,
   "metadata": {},
   "outputs": [
    {
     "data": {
      "text/html": [
       "<div>\n",
       "<style scoped>\n",
       "    .dataframe tbody tr th:only-of-type {\n",
       "        vertical-align: middle;\n",
       "    }\n",
       "\n",
       "    .dataframe tbody tr th {\n",
       "        vertical-align: top;\n",
       "    }\n",
       "\n",
       "    .dataframe thead th {\n",
       "        text-align: right;\n",
       "    }\n",
       "</style>\n",
       "<table border=\"1\" class=\"dataframe\">\n",
       "  <thead>\n",
       "    <tr style=\"text-align: right;\">\n",
       "      <th></th>\n",
       "      <th>Event.Id</th>\n",
       "      <th>Investigation.Type</th>\n",
       "      <th>Accident.Number</th>\n",
       "      <th>Event.Date</th>\n",
       "      <th>Location</th>\n",
       "      <th>Country</th>\n",
       "      <th>Latitude</th>\n",
       "      <th>Longitude</th>\n",
       "      <th>Airport.Code</th>\n",
       "      <th>Airport.Name</th>\n",
       "      <th>...</th>\n",
       "      <th>Total.Serious.Injuries</th>\n",
       "      <th>Total.Minor.Injuries</th>\n",
       "      <th>Total.Uninjured</th>\n",
       "      <th>Weather.Condition</th>\n",
       "      <th>Broad.phase.of.flight</th>\n",
       "      <th>Report.Status</th>\n",
       "      <th>Publication.Date</th>\n",
       "      <th>year</th>\n",
       "      <th>Total.Injured</th>\n",
       "      <th>Aircraft.Name</th>\n",
       "    </tr>\n",
       "  </thead>\n",
       "  <tbody>\n",
       "    <tr>\n",
       "      <th>41656</th>\n",
       "      <td>20001208X07697</td>\n",
       "      <td>Accident</td>\n",
       "      <td>DCA97WA043</td>\n",
       "      <td>1997-04-27</td>\n",
       "      <td>JINAN, CHINA</td>\n",
       "      <td>China</td>\n",
       "      <td>missing</td>\n",
       "      <td>missing</td>\n",
       "      <td>missing</td>\n",
       "      <td>missing</td>\n",
       "      <td>...</td>\n",
       "      <td>0.0</td>\n",
       "      <td>0.0</td>\n",
       "      <td>5.0</td>\n",
       "      <td>UNK</td>\n",
       "      <td>missing</td>\n",
       "      <td>Foreign</td>\n",
       "      <td>missing</td>\n",
       "      <td>1997</td>\n",
       "      <td>0.0</td>\n",
       "      <td>Mcdonnell Douglas_MD-82</td>\n",
       "    </tr>\n",
       "    <tr>\n",
       "      <th>42287</th>\n",
       "      <td>20001208X08352</td>\n",
       "      <td>Accident</td>\n",
       "      <td>DCA97WA054</td>\n",
       "      <td>1997-07-21</td>\n",
       "      <td>SOUTHERN THAILA, Thailand</td>\n",
       "      <td>Thailand</td>\n",
       "      <td>missing</td>\n",
       "      <td>missing</td>\n",
       "      <td>missing</td>\n",
       "      <td>missing</td>\n",
       "      <td>...</td>\n",
       "      <td>0.0</td>\n",
       "      <td>0.0</td>\n",
       "      <td>5.0</td>\n",
       "      <td>UNK</td>\n",
       "      <td>missing</td>\n",
       "      <td>Foreign</td>\n",
       "      <td>missing</td>\n",
       "      <td>1997</td>\n",
       "      <td>0.0</td>\n",
       "      <td>Learjet_LR-31</td>\n",
       "    </tr>\n",
       "    <tr>\n",
       "      <th>42847</th>\n",
       "      <td>20001208X08992</td>\n",
       "      <td>Accident</td>\n",
       "      <td>DCA98WA082</td>\n",
       "      <td>1997-10-09</td>\n",
       "      <td>HARBIN, CHINA</td>\n",
       "      <td>China</td>\n",
       "      <td>missing</td>\n",
       "      <td>missing</td>\n",
       "      <td>missing</td>\n",
       "      <td>missing</td>\n",
       "      <td>...</td>\n",
       "      <td>0.0</td>\n",
       "      <td>0.0</td>\n",
       "      <td>5.0</td>\n",
       "      <td>UNK</td>\n",
       "      <td>missing</td>\n",
       "      <td>Foreign</td>\n",
       "      <td>missing</td>\n",
       "      <td>1997</td>\n",
       "      <td>0.0</td>\n",
       "      <td>Cessna_650-0220</td>\n",
       "    </tr>\n",
       "    <tr>\n",
       "      <th>42935</th>\n",
       "      <td>20001208X08991</td>\n",
       "      <td>Accident</td>\n",
       "      <td>DCA98WA005</td>\n",
       "      <td>1997-10-24</td>\n",
       "      <td>MONTEVIDEO, URUGUAY</td>\n",
       "      <td>Uruguay</td>\n",
       "      <td>missing</td>\n",
       "      <td>missing</td>\n",
       "      <td>missing</td>\n",
       "      <td>missing</td>\n",
       "      <td>...</td>\n",
       "      <td>0.0</td>\n",
       "      <td>0.0</td>\n",
       "      <td>5.0</td>\n",
       "      <td>UNK</td>\n",
       "      <td>missing</td>\n",
       "      <td>Foreign</td>\n",
       "      <td>missing</td>\n",
       "      <td>1997</td>\n",
       "      <td>0.0</td>\n",
       "      <td>Mcdonnell Douglas_MD-11</td>\n",
       "    </tr>\n",
       "    <tr>\n",
       "      <th>43693</th>\n",
       "      <td>20001211X09838</td>\n",
       "      <td>Accident</td>\n",
       "      <td>DCA98WA050</td>\n",
       "      <td>1998-04-12</td>\n",
       "      <td>ALMA-ATA, KAZAKHSTAN</td>\n",
       "      <td>Kazakhstan</td>\n",
       "      <td>missing</td>\n",
       "      <td>missing</td>\n",
       "      <td>missing</td>\n",
       "      <td>missing</td>\n",
       "      <td>...</td>\n",
       "      <td>0.0</td>\n",
       "      <td>0.0</td>\n",
       "      <td>5.0</td>\n",
       "      <td>UNK</td>\n",
       "      <td>missing</td>\n",
       "      <td>Foreign</td>\n",
       "      <td>missing</td>\n",
       "      <td>1998</td>\n",
       "      <td>0.0</td>\n",
       "      <td>Boeing_737-200</td>\n",
       "    </tr>\n",
       "  </tbody>\n",
       "</table>\n",
       "<p>5 rows × 32 columns</p>\n",
       "</div>"
      ],
      "text/plain": [
       "             Event.Id Investigation.Type Accident.Number Event.Date  \\\n",
       "41656  20001208X07697           Accident      DCA97WA043 1997-04-27   \n",
       "42287  20001208X08352           Accident      DCA97WA054 1997-07-21   \n",
       "42847  20001208X08992           Accident      DCA98WA082 1997-10-09   \n",
       "42935  20001208X08991           Accident      DCA98WA005 1997-10-24   \n",
       "43693  20001211X09838           Accident      DCA98WA050 1998-04-12   \n",
       "\n",
       "                        Location     Country Latitude Longitude Airport.Code  \\\n",
       "41656               JINAN, CHINA       China  missing   missing      missing   \n",
       "42287  SOUTHERN THAILA, Thailand    Thailand  missing   missing      missing   \n",
       "42847              HARBIN, CHINA       China  missing   missing      missing   \n",
       "42935        MONTEVIDEO, URUGUAY     Uruguay  missing   missing      missing   \n",
       "43693       ALMA-ATA, KAZAKHSTAN  Kazakhstan  missing   missing      missing   \n",
       "\n",
       "      Airport.Name  ... Total.Serious.Injuries Total.Minor.Injuries  \\\n",
       "41656      missing  ...                    0.0                  0.0   \n",
       "42287      missing  ...                    0.0                  0.0   \n",
       "42847      missing  ...                    0.0                  0.0   \n",
       "42935      missing  ...                    0.0                  0.0   \n",
       "43693      missing  ...                    0.0                  0.0   \n",
       "\n",
       "      Total.Uninjured Weather.Condition Broad.phase.of.flight Report.Status  \\\n",
       "41656             5.0               UNK               missing       Foreign   \n",
       "42287             5.0               UNK               missing       Foreign   \n",
       "42847             5.0               UNK               missing       Foreign   \n",
       "42935             5.0               UNK               missing       Foreign   \n",
       "43693             5.0               UNK               missing       Foreign   \n",
       "\n",
       "      Publication.Date  year Total.Injured            Aircraft.Name  \n",
       "41656          missing  1997           0.0  Mcdonnell Douglas_MD-82  \n",
       "42287          missing  1997           0.0            Learjet_LR-31  \n",
       "42847          missing  1997           0.0          Cessna_650-0220  \n",
       "42935          missing  1997           0.0  Mcdonnell Douglas_MD-11  \n",
       "43693          missing  1998           0.0           Boeing_737-200  \n",
       "\n",
       "[5 rows x 32 columns]"
      ]
     },
     "execution_count": 359,
     "metadata": {},
     "output_type": "execute_result"
    }
   ],
   "source": [
    "unavailable_df = df[df['Injury.Severity'] == 'Unavailable']\n",
    "unavailable_df.head()"
   ]
  },
  {
   "cell_type": "code",
   "execution_count": 360,
   "metadata": {},
   "outputs": [
    {
     "data": {
      "text/plain": [
       "Accident    20\n",
       "Name: Investigation.Type, dtype: int64"
      ]
     },
     "execution_count": 360,
     "metadata": {},
     "output_type": "execute_result"
    }
   ],
   "source": [
    "unavailable_df['Investigation.Type'].value_counts()"
   ]
  },
  {
   "cell_type": "markdown",
   "metadata": {},
   "source": [
    "Only accidents are involved in this category."
   ]
  },
  {
   "cell_type": "code",
   "execution_count": 361,
   "metadata": {},
   "outputs": [
    {
     "data": {
      "text/plain": [
       "0.0    20\n",
       "Name: Total.Injured, dtype: int64"
      ]
     },
     "execution_count": 361,
     "metadata": {},
     "output_type": "execute_result"
    }
   ],
   "source": [
    "unavailable_df['Total.Injured'].value_counts()"
   ]
  },
  {
   "cell_type": "markdown",
   "metadata": {},
   "source": [
    "There were no injuries as well, causing us to conclude that accident instances with no injuries belong under the 'Unavailable' category.\r\n"
   ]
  },
  {
   "cell_type": "markdown",
   "metadata": {},
   "source": [
    "##### Understanding the Incident Category"
   ]
  },
  {
   "cell_type": "code",
   "execution_count": 362,
   "metadata": {},
   "outputs": [
    {
     "data": {
      "text/html": [
       "<div>\n",
       "<style scoped>\n",
       "    .dataframe tbody tr th:only-of-type {\n",
       "        vertical-align: middle;\n",
       "    }\n",
       "\n",
       "    .dataframe tbody tr th {\n",
       "        vertical-align: top;\n",
       "    }\n",
       "\n",
       "    .dataframe thead th {\n",
       "        text-align: right;\n",
       "    }\n",
       "</style>\n",
       "<table border=\"1\" class=\"dataframe\">\n",
       "  <thead>\n",
       "    <tr style=\"text-align: right;\">\n",
       "      <th></th>\n",
       "      <th>Event.Id</th>\n",
       "      <th>Investigation.Type</th>\n",
       "      <th>Accident.Number</th>\n",
       "      <th>Event.Date</th>\n",
       "      <th>Location</th>\n",
       "      <th>Country</th>\n",
       "      <th>Latitude</th>\n",
       "      <th>Longitude</th>\n",
       "      <th>Airport.Code</th>\n",
       "      <th>Airport.Name</th>\n",
       "      <th>...</th>\n",
       "      <th>Total.Serious.Injuries</th>\n",
       "      <th>Total.Minor.Injuries</th>\n",
       "      <th>Total.Uninjured</th>\n",
       "      <th>Weather.Condition</th>\n",
       "      <th>Broad.phase.of.flight</th>\n",
       "      <th>Report.Status</th>\n",
       "      <th>Publication.Date</th>\n",
       "      <th>year</th>\n",
       "      <th>Total.Injured</th>\n",
       "      <th>Aircraft.Name</th>\n",
       "    </tr>\n",
       "  </thead>\n",
       "  <tbody>\n",
       "    <tr>\n",
       "      <th>23</th>\n",
       "      <td>20020917X02333</td>\n",
       "      <td>Incident</td>\n",
       "      <td>LAX82IA034</td>\n",
       "      <td>1982-01-03</td>\n",
       "      <td>VAN NUYS, CA</td>\n",
       "      <td>United States</td>\n",
       "      <td>missing</td>\n",
       "      <td>missing</td>\n",
       "      <td>VNY</td>\n",
       "      <td>VAN NUYS</td>\n",
       "      <td>...</td>\n",
       "      <td>0.0</td>\n",
       "      <td>0.0</td>\n",
       "      <td>1.0</td>\n",
       "      <td>VMC</td>\n",
       "      <td>Approach</td>\n",
       "      <td>Probable Cause</td>\n",
       "      <td>03-01-1983</td>\n",
       "      <td>1982</td>\n",
       "      <td>0.0</td>\n",
       "      <td>Piper_PA-24-180</td>\n",
       "    </tr>\n",
       "    <tr>\n",
       "      <th>40</th>\n",
       "      <td>20020917X01764</td>\n",
       "      <td>Incident</td>\n",
       "      <td>ATL82IA029</td>\n",
       "      <td>1982-01-05</td>\n",
       "      <td>PENSACOLA, FL</td>\n",
       "      <td>United States</td>\n",
       "      <td>missing</td>\n",
       "      <td>missing</td>\n",
       "      <td>missing</td>\n",
       "      <td>missing</td>\n",
       "      <td>...</td>\n",
       "      <td>0.0</td>\n",
       "      <td>0.0</td>\n",
       "      <td>1.0</td>\n",
       "      <td>VMC</td>\n",
       "      <td>Cruise</td>\n",
       "      <td>Probable Cause</td>\n",
       "      <td>05-01-1983</td>\n",
       "      <td>1982</td>\n",
       "      <td>0.0</td>\n",
       "      <td>Rockwell_114</td>\n",
       "    </tr>\n",
       "    <tr>\n",
       "      <th>79</th>\n",
       "      <td>20020917X01897</td>\n",
       "      <td>Incident</td>\n",
       "      <td>CHI82IA026</td>\n",
       "      <td>1982-01-12</td>\n",
       "      <td>CHICAGO, IL</td>\n",
       "      <td>United States</td>\n",
       "      <td>missing</td>\n",
       "      <td>missing</td>\n",
       "      <td>ORD</td>\n",
       "      <td>CHICAGO O'HARE INTER'L</td>\n",
       "      <td>...</td>\n",
       "      <td>0.0</td>\n",
       "      <td>0.0</td>\n",
       "      <td>149.0</td>\n",
       "      <td>UNK</td>\n",
       "      <td>Cruise</td>\n",
       "      <td>Probable Cause</td>\n",
       "      <td>12-01-1983</td>\n",
       "      <td>1982</td>\n",
       "      <td>0.0</td>\n",
       "      <td>Lockheed_L-1011</td>\n",
       "    </tr>\n",
       "    <tr>\n",
       "      <th>80</th>\n",
       "      <td>20020917X01765</td>\n",
       "      <td>Incident</td>\n",
       "      <td>ATL82IA034</td>\n",
       "      <td>1982-01-12</td>\n",
       "      <td>CLARKSBURG, WV</td>\n",
       "      <td>United States</td>\n",
       "      <td>missing</td>\n",
       "      <td>missing</td>\n",
       "      <td>CKB</td>\n",
       "      <td>BENEDUM</td>\n",
       "      <td>...</td>\n",
       "      <td>0.0</td>\n",
       "      <td>0.0</td>\n",
       "      <td>2.0</td>\n",
       "      <td>VMC</td>\n",
       "      <td>Taxi</td>\n",
       "      <td>Probable Cause</td>\n",
       "      <td>12-01-1983</td>\n",
       "      <td>1982</td>\n",
       "      <td>0.0</td>\n",
       "      <td>Embraer_EMB-110P1</td>\n",
       "    </tr>\n",
       "    <tr>\n",
       "      <th>119</th>\n",
       "      <td>20020917X01766</td>\n",
       "      <td>Incident</td>\n",
       "      <td>ATL82IA038</td>\n",
       "      <td>1982-01-19</td>\n",
       "      <td>WASHINGTON, DC</td>\n",
       "      <td>United States</td>\n",
       "      <td>missing</td>\n",
       "      <td>missing</td>\n",
       "      <td>IAD</td>\n",
       "      <td>missing</td>\n",
       "      <td>...</td>\n",
       "      <td>0.0</td>\n",
       "      <td>0.0</td>\n",
       "      <td>1.0</td>\n",
       "      <td>IMC</td>\n",
       "      <td>Descent</td>\n",
       "      <td>Probable Cause</td>\n",
       "      <td>19-01-1983</td>\n",
       "      <td>1982</td>\n",
       "      <td>0.0</td>\n",
       "      <td>De Havilland_DHC-6-300</td>\n",
       "    </tr>\n",
       "  </tbody>\n",
       "</table>\n",
       "<p>5 rows × 32 columns</p>\n",
       "</div>"
      ],
      "text/plain": [
       "           Event.Id Investigation.Type Accident.Number Event.Date  \\\n",
       "23   20020917X02333           Incident      LAX82IA034 1982-01-03   \n",
       "40   20020917X01764           Incident      ATL82IA029 1982-01-05   \n",
       "79   20020917X01897           Incident      CHI82IA026 1982-01-12   \n",
       "80   20020917X01765           Incident      ATL82IA034 1982-01-12   \n",
       "119  20020917X01766           Incident      ATL82IA038 1982-01-19   \n",
       "\n",
       "           Location        Country Latitude Longitude Airport.Code  \\\n",
       "23     VAN NUYS, CA  United States  missing   missing          VNY   \n",
       "40    PENSACOLA, FL  United States  missing   missing      missing   \n",
       "79      CHICAGO, IL  United States  missing   missing          ORD   \n",
       "80   CLARKSBURG, WV  United States  missing   missing          CKB   \n",
       "119  WASHINGTON, DC  United States  missing   missing          IAD   \n",
       "\n",
       "               Airport.Name  ... Total.Serious.Injuries Total.Minor.Injuries  \\\n",
       "23                 VAN NUYS  ...                    0.0                  0.0   \n",
       "40                  missing  ...                    0.0                  0.0   \n",
       "79   CHICAGO O'HARE INTER'L  ...                    0.0                  0.0   \n",
       "80                  BENEDUM  ...                    0.0                  0.0   \n",
       "119                 missing  ...                    0.0                  0.0   \n",
       "\n",
       "    Total.Uninjured Weather.Condition Broad.phase.of.flight   Report.Status  \\\n",
       "23              1.0               VMC              Approach  Probable Cause   \n",
       "40              1.0               VMC                Cruise  Probable Cause   \n",
       "79            149.0               UNK                Cruise  Probable Cause   \n",
       "80              2.0               VMC                  Taxi  Probable Cause   \n",
       "119             1.0               IMC               Descent  Probable Cause   \n",
       "\n",
       "    Publication.Date  year Total.Injured           Aircraft.Name  \n",
       "23        03-01-1983  1982           0.0         Piper_PA-24-180  \n",
       "40        05-01-1983  1982           0.0            Rockwell_114  \n",
       "79        12-01-1983  1982           0.0         Lockheed_L-1011  \n",
       "80        12-01-1983  1982           0.0       Embraer_EMB-110P1  \n",
       "119       19-01-1983  1982           0.0  De Havilland_DHC-6-300  \n",
       "\n",
       "[5 rows x 32 columns]"
      ]
     },
     "execution_count": 362,
     "metadata": {},
     "output_type": "execute_result"
    }
   ],
   "source": [
    "incident_cat_df = df[df['Injury.Severity'] == 'Incident']\n",
    "incident_cat_df.head()"
   ]
  },
  {
   "cell_type": "code",
   "execution_count": 363,
   "metadata": {},
   "outputs": [
    {
     "data": {
      "text/plain": [
       "Incident    244\n",
       "Name: Investigation.Type, dtype: int64"
      ]
     },
     "execution_count": 363,
     "metadata": {},
     "output_type": "execute_result"
    }
   ],
   "source": [
    "incident_cat_df['Investigation.Type'].value_counts()"
   ]
  },
  {
   "cell_type": "markdown",
   "metadata": {},
   "source": [
    "Only involve incident cases"
   ]
  },
  {
   "cell_type": "code",
   "execution_count": 364,
   "metadata": {},
   "outputs": [
    {
     "data": {
      "text/plain": [
       "0.0      229\n",
       "1.0        8\n",
       "2.0        3\n",
       "380.0      1\n",
       "14.0       1\n",
       "33.0       1\n",
       "17.0       1\n",
       "Name: Total.Injured, dtype: int64"
      ]
     },
     "execution_count": 364,
     "metadata": {},
     "output_type": "execute_result"
    }
   ],
   "source": [
    "incident_cat_df['Total.Injured'].value_counts()"
   ]
  },
  {
   "cell_type": "markdown",
   "metadata": {},
   "source": [
    "mostly no number of injuries"
   ]
  },
  {
   "cell_type": "code",
   "execution_count": 365,
   "metadata": {},
   "outputs": [
    {
     "data": {
      "text/html": [
       "<div>\n",
       "<style scoped>\n",
       "    .dataframe tbody tr th:only-of-type {\n",
       "        vertical-align: middle;\n",
       "    }\n",
       "\n",
       "    .dataframe tbody tr th {\n",
       "        vertical-align: top;\n",
       "    }\n",
       "\n",
       "    .dataframe thead th {\n",
       "        text-align: right;\n",
       "    }\n",
       "</style>\n",
       "<table border=\"1\" class=\"dataframe\">\n",
       "  <thead>\n",
       "    <tr style=\"text-align: right;\">\n",
       "      <th></th>\n",
       "      <th>Total.Fatal.Injuries</th>\n",
       "      <th>Total.Serious.Injuries</th>\n",
       "      <th>Total.Minor.Injuries</th>\n",
       "    </tr>\n",
       "  </thead>\n",
       "  <tbody>\n",
       "    <tr>\n",
       "      <th>425</th>\n",
       "      <td>0.0</td>\n",
       "      <td>0.0</td>\n",
       "      <td>1.0</td>\n",
       "    </tr>\n",
       "    <tr>\n",
       "      <th>506</th>\n",
       "      <td>1.0</td>\n",
       "      <td>0.0</td>\n",
       "      <td>0.0</td>\n",
       "    </tr>\n",
       "    <tr>\n",
       "      <th>1347</th>\n",
       "      <td>0.0</td>\n",
       "      <td>0.0</td>\n",
       "      <td>17.0</td>\n",
       "    </tr>\n",
       "    <tr>\n",
       "      <th>2282</th>\n",
       "      <td>0.0</td>\n",
       "      <td>0.0</td>\n",
       "      <td>1.0</td>\n",
       "    </tr>\n",
       "    <tr>\n",
       "      <th>2335</th>\n",
       "      <td>0.0</td>\n",
       "      <td>0.0</td>\n",
       "      <td>33.0</td>\n",
       "    </tr>\n",
       "    <tr>\n",
       "      <th>2394</th>\n",
       "      <td>0.0</td>\n",
       "      <td>0.0</td>\n",
       "      <td>1.0</td>\n",
       "    </tr>\n",
       "    <tr>\n",
       "      <th>2614</th>\n",
       "      <td>0.0</td>\n",
       "      <td>1.0</td>\n",
       "      <td>1.0</td>\n",
       "    </tr>\n",
       "    <tr>\n",
       "      <th>3170</th>\n",
       "      <td>0.0</td>\n",
       "      <td>0.0</td>\n",
       "      <td>1.0</td>\n",
       "    </tr>\n",
       "    <tr>\n",
       "      <th>3298</th>\n",
       "      <td>0.0</td>\n",
       "      <td>0.0</td>\n",
       "      <td>1.0</td>\n",
       "    </tr>\n",
       "    <tr>\n",
       "      <th>3578</th>\n",
       "      <td>0.0</td>\n",
       "      <td>0.0</td>\n",
       "      <td>14.0</td>\n",
       "    </tr>\n",
       "    <tr>\n",
       "      <th>38640</th>\n",
       "      <td>0.0</td>\n",
       "      <td>0.0</td>\n",
       "      <td>2.0</td>\n",
       "    </tr>\n",
       "    <tr>\n",
       "      <th>45237</th>\n",
       "      <td>0.0</td>\n",
       "      <td>0.0</td>\n",
       "      <td>1.0</td>\n",
       "    </tr>\n",
       "    <tr>\n",
       "      <th>48927</th>\n",
       "      <td>0.0</td>\n",
       "      <td>0.0</td>\n",
       "      <td>380.0</td>\n",
       "    </tr>\n",
       "    <tr>\n",
       "      <th>63547</th>\n",
       "      <td>0.0</td>\n",
       "      <td>0.0</td>\n",
       "      <td>2.0</td>\n",
       "    </tr>\n",
       "    <tr>\n",
       "      <th>63689</th>\n",
       "      <td>0.0</td>\n",
       "      <td>0.0</td>\n",
       "      <td>1.0</td>\n",
       "    </tr>\n",
       "  </tbody>\n",
       "</table>\n",
       "</div>"
      ],
      "text/plain": [
       "       Total.Fatal.Injuries  Total.Serious.Injuries  Total.Minor.Injuries\n",
       "425                     0.0                     0.0                   1.0\n",
       "506                     1.0                     0.0                   0.0\n",
       "1347                    0.0                     0.0                  17.0\n",
       "2282                    0.0                     0.0                   1.0\n",
       "2335                    0.0                     0.0                  33.0\n",
       "2394                    0.0                     0.0                   1.0\n",
       "2614                    0.0                     1.0                   1.0\n",
       "3170                    0.0                     0.0                   1.0\n",
       "3298                    0.0                     0.0                   1.0\n",
       "3578                    0.0                     0.0                  14.0\n",
       "38640                   0.0                     0.0                   2.0\n",
       "45237                   0.0                     0.0                   1.0\n",
       "48927                   0.0                     0.0                 380.0\n",
       "63547                   0.0                     0.0                   2.0\n",
       "63689                   0.0                     0.0                   1.0"
      ]
     },
     "execution_count": 365,
     "metadata": {},
     "output_type": "execute_result"
    }
   ],
   "source": [
    "incident_cat_df[incident_cat_df['Total.Injured'] > 0][\n",
    "    ['Total.Fatal.Injuries',\n",
    "    'Total.Serious.Injuries',\n",
    "    'Total.Minor.Injuries']\n",
    "]"
   ]
  },
  {
   "cell_type": "markdown",
   "metadata": {},
   "source": [
    "There is just one case of fatal injuries and one case of serious injuries under the Incident Category for cases of injuries.\r\n",
    "\r\n",
    "Thus, we may conclude that incident instances with no or minor injuries fall under the \"Incident\" category.\r\n",
    "\r",
    "This category is the best option because it carries the least amount of risk.risk"
   ]
  },
  {
   "cell_type": "markdown",
   "metadata": {},
   "source": [
    "##### Filtering To get the Incident category"
   ]
  },
  {
   "cell_type": "code",
   "execution_count": 366,
   "metadata": {},
   "outputs": [
    {
     "data": {
      "text/html": [
       "<div>\n",
       "<style scoped>\n",
       "    .dataframe tbody tr th:only-of-type {\n",
       "        vertical-align: middle;\n",
       "    }\n",
       "\n",
       "    .dataframe tbody tr th {\n",
       "        vertical-align: top;\n",
       "    }\n",
       "\n",
       "    .dataframe thead th {\n",
       "        text-align: right;\n",
       "    }\n",
       "</style>\n",
       "<table border=\"1\" class=\"dataframe\">\n",
       "  <thead>\n",
       "    <tr style=\"text-align: right;\">\n",
       "      <th></th>\n",
       "      <th>Event.Id</th>\n",
       "      <th>Investigation.Type</th>\n",
       "      <th>Accident.Number</th>\n",
       "      <th>Event.Date</th>\n",
       "      <th>Location</th>\n",
       "      <th>Country</th>\n",
       "      <th>Latitude</th>\n",
       "      <th>Longitude</th>\n",
       "      <th>Airport.Code</th>\n",
       "      <th>Airport.Name</th>\n",
       "      <th>...</th>\n",
       "      <th>Total.Fatal.Injuries</th>\n",
       "      <th>Total.Serious.Injuries</th>\n",
       "      <th>Total.Minor.Injuries</th>\n",
       "      <th>Total.Uninjured</th>\n",
       "      <th>Weather.Condition</th>\n",
       "      <th>Broad.phase.of.flight</th>\n",
       "      <th>Report.Status</th>\n",
       "      <th>Publication.Date</th>\n",
       "      <th>year</th>\n",
       "      <th>Total.Injured</th>\n",
       "    </tr>\n",
       "    <tr>\n",
       "      <th>Aircraft.Name</th>\n",
       "      <th></th>\n",
       "      <th></th>\n",
       "      <th></th>\n",
       "      <th></th>\n",
       "      <th></th>\n",
       "      <th></th>\n",
       "      <th></th>\n",
       "      <th></th>\n",
       "      <th></th>\n",
       "      <th></th>\n",
       "      <th></th>\n",
       "      <th></th>\n",
       "      <th></th>\n",
       "      <th></th>\n",
       "      <th></th>\n",
       "      <th></th>\n",
       "      <th></th>\n",
       "      <th></th>\n",
       "      <th></th>\n",
       "      <th></th>\n",
       "      <th></th>\n",
       "    </tr>\n",
       "  </thead>\n",
       "  <tbody>\n",
       "    <tr>\n",
       "      <th>Airbus Industrie_300B4-200</th>\n",
       "      <td>20081003X63346</td>\n",
       "      <td>Incident</td>\n",
       "      <td>ENG05WA019</td>\n",
       "      <td>2005-06-29</td>\n",
       "      <td>Amsterdam, The Netherlands, Netherlands</td>\n",
       "      <td>Netherlands</td>\n",
       "      <td>missing</td>\n",
       "      <td>missing</td>\n",
       "      <td>EHAM</td>\n",
       "      <td>Amsterdam Inter. Schipol</td>\n",
       "      <td>...</td>\n",
       "      <td>0.0</td>\n",
       "      <td>0.0</td>\n",
       "      <td>0.0</td>\n",
       "      <td>279.0</td>\n",
       "      <td>missing</td>\n",
       "      <td>missing</td>\n",
       "      <td>Foreign</td>\n",
       "      <td>20-10-2009</td>\n",
       "      <td>2005</td>\n",
       "      <td>0.0</td>\n",
       "    </tr>\n",
       "    <tr>\n",
       "      <th>Airbus Industrie_A300</th>\n",
       "      <td>20001211X10544</td>\n",
       "      <td>Incident</td>\n",
       "      <td>DCA98WA066</td>\n",
       "      <td>1998-07-09</td>\n",
       "      <td>LONDON, United Kingdom</td>\n",
       "      <td>United Kingdom</td>\n",
       "      <td>missing</td>\n",
       "      <td>missing</td>\n",
       "      <td>missing</td>\n",
       "      <td>missing</td>\n",
       "      <td>...</td>\n",
       "      <td>0.0</td>\n",
       "      <td>0.0</td>\n",
       "      <td>0.0</td>\n",
       "      <td>1.0</td>\n",
       "      <td>UNK</td>\n",
       "      <td>missing</td>\n",
       "      <td>Foreign</td>\n",
       "      <td>missing</td>\n",
       "      <td>1998</td>\n",
       "      <td>0.0</td>\n",
       "    </tr>\n",
       "    <tr>\n",
       "      <th>Bac_1-11-204AF</th>\n",
       "      <td>20020917X03096</td>\n",
       "      <td>Incident</td>\n",
       "      <td>CHI82IA179</td>\n",
       "      <td>1982-05-21</td>\n",
       "      <td>DAYTON, OH</td>\n",
       "      <td>United States</td>\n",
       "      <td>missing</td>\n",
       "      <td>missing</td>\n",
       "      <td>DAY</td>\n",
       "      <td>COX INTERNATIONAL</td>\n",
       "      <td>...</td>\n",
       "      <td>0.0</td>\n",
       "      <td>0.0</td>\n",
       "      <td>0.0</td>\n",
       "      <td>48.0</td>\n",
       "      <td>IMC</td>\n",
       "      <td>Landing</td>\n",
       "      <td>Probable Cause</td>\n",
       "      <td>21-05-1983</td>\n",
       "      <td>1982</td>\n",
       "      <td>0.0</td>\n",
       "    </tr>\n",
       "    <tr>\n",
       "      <th>Beech_18</th>\n",
       "      <td>20020917X02892</td>\n",
       "      <td>Incident</td>\n",
       "      <td>ATL82IA154</td>\n",
       "      <td>1982-06-06</td>\n",
       "      <td>MACON, GA</td>\n",
       "      <td>United States</td>\n",
       "      <td>missing</td>\n",
       "      <td>missing</td>\n",
       "      <td>MCN</td>\n",
       "      <td>LEWIS B. WILSON</td>\n",
       "      <td>...</td>\n",
       "      <td>0.0</td>\n",
       "      <td>0.0</td>\n",
       "      <td>0.0</td>\n",
       "      <td>2.0</td>\n",
       "      <td>VMC</td>\n",
       "      <td>Takeoff</td>\n",
       "      <td>Probable Cause</td>\n",
       "      <td>06-06-1983</td>\n",
       "      <td>1982</td>\n",
       "      <td>0.0</td>\n",
       "    </tr>\n",
       "    <tr>\n",
       "      <th>Beech_65-88</th>\n",
       "      <td>20020917X01900</td>\n",
       "      <td>Incident</td>\n",
       "      <td>CHI82IA102</td>\n",
       "      <td>1982-03-25</td>\n",
       "      <td>KALAMAZO, MI</td>\n",
       "      <td>United States</td>\n",
       "      <td>missing</td>\n",
       "      <td>missing</td>\n",
       "      <td>AZO</td>\n",
       "      <td>KALAMAZOO</td>\n",
       "      <td>...</td>\n",
       "      <td>0.0</td>\n",
       "      <td>0.0</td>\n",
       "      <td>0.0</td>\n",
       "      <td>2.0</td>\n",
       "      <td>VMC</td>\n",
       "      <td>Approach</td>\n",
       "      <td>Probable Cause</td>\n",
       "      <td>25-03-1983</td>\n",
       "      <td>1982</td>\n",
       "      <td>0.0</td>\n",
       "    </tr>\n",
       "  </tbody>\n",
       "</table>\n",
       "<p>5 rows × 31 columns</p>\n",
       "</div>"
      ],
      "text/plain": [
       "                                  Event.Id Investigation.Type Accident.Number  \\\n",
       "Aircraft.Name                                                                   \n",
       "Airbus Industrie_300B4-200  20081003X63346           Incident      ENG05WA019   \n",
       "Airbus Industrie_A300       20001211X10544           Incident      DCA98WA066   \n",
       "Bac_1-11-204AF              20020917X03096           Incident      CHI82IA179   \n",
       "Beech_18                    20020917X02892           Incident      ATL82IA154   \n",
       "Beech_65-88                 20020917X01900           Incident      CHI82IA102   \n",
       "\n",
       "                           Event.Date  \\\n",
       "Aircraft.Name                           \n",
       "Airbus Industrie_300B4-200 2005-06-29   \n",
       "Airbus Industrie_A300      1998-07-09   \n",
       "Bac_1-11-204AF             1982-05-21   \n",
       "Beech_18                   1982-06-06   \n",
       "Beech_65-88                1982-03-25   \n",
       "\n",
       "                                                           Location  \\\n",
       "Aircraft.Name                                                         \n",
       "Airbus Industrie_300B4-200  Amsterdam, The Netherlands, Netherlands   \n",
       "Airbus Industrie_A300                        LONDON, United Kingdom   \n",
       "Bac_1-11-204AF                                           DAYTON, OH   \n",
       "Beech_18                                                  MACON, GA   \n",
       "Beech_65-88                                            KALAMAZO, MI   \n",
       "\n",
       "                                   Country Latitude Longitude Airport.Code  \\\n",
       "Aircraft.Name                                                                \n",
       "Airbus Industrie_300B4-200     Netherlands  missing   missing         EHAM   \n",
       "Airbus Industrie_A300       United Kingdom  missing   missing      missing   \n",
       "Bac_1-11-204AF               United States  missing   missing          DAY   \n",
       "Beech_18                     United States  missing   missing          MCN   \n",
       "Beech_65-88                  United States  missing   missing          AZO   \n",
       "\n",
       "                                        Airport.Name  ...  \\\n",
       "Aircraft.Name                                         ...   \n",
       "Airbus Industrie_300B4-200  Amsterdam Inter. Schipol  ...   \n",
       "Airbus Industrie_A300                        missing  ...   \n",
       "Bac_1-11-204AF                     COX INTERNATIONAL  ...   \n",
       "Beech_18                             LEWIS B. WILSON  ...   \n",
       "Beech_65-88                                KALAMAZOO  ...   \n",
       "\n",
       "                           Total.Fatal.Injuries Total.Serious.Injuries  \\\n",
       "Aircraft.Name                                                            \n",
       "Airbus Industrie_300B4-200                  0.0                    0.0   \n",
       "Airbus Industrie_A300                       0.0                    0.0   \n",
       "Bac_1-11-204AF                              0.0                    0.0   \n",
       "Beech_18                                    0.0                    0.0   \n",
       "Beech_65-88                                 0.0                    0.0   \n",
       "\n",
       "                           Total.Minor.Injuries Total.Uninjured  \\\n",
       "Aircraft.Name                                                     \n",
       "Airbus Industrie_300B4-200                  0.0           279.0   \n",
       "Airbus Industrie_A300                       0.0             1.0   \n",
       "Bac_1-11-204AF                              0.0            48.0   \n",
       "Beech_18                                    0.0             2.0   \n",
       "Beech_65-88                                 0.0             2.0   \n",
       "\n",
       "                           Weather.Condition Broad.phase.of.flight  \\\n",
       "Aircraft.Name                                                        \n",
       "Airbus Industrie_300B4-200           missing               missing   \n",
       "Airbus Industrie_A300                    UNK               missing   \n",
       "Bac_1-11-204AF                           IMC               Landing   \n",
       "Beech_18                                 VMC               Takeoff   \n",
       "Beech_65-88                              VMC              Approach   \n",
       "\n",
       "                             Report.Status  Publication.Date  year  \\\n",
       "Aircraft.Name                                                        \n",
       "Airbus Industrie_300B4-200         Foreign        20-10-2009  2005   \n",
       "Airbus Industrie_A300              Foreign           missing  1998   \n",
       "Bac_1-11-204AF              Probable Cause        21-05-1983  1982   \n",
       "Beech_18                    Probable Cause        06-06-1983  1982   \n",
       "Beech_65-88                 Probable Cause        25-03-1983  1982   \n",
       "\n",
       "                           Total.Injured  \n",
       "Aircraft.Name                             \n",
       "Airbus Industrie_300B4-200           0.0  \n",
       "Airbus Industrie_A300                0.0  \n",
       "Bac_1-11-204AF                       0.0  \n",
       "Beech_18                             0.0  \n",
       "Beech_65-88                          0.0  \n",
       "\n",
       "[5 rows x 31 columns]"
      ]
     },
     "execution_count": 366,
     "metadata": {},
     "output_type": "execute_result"
    }
   ],
   "source": [
    "second_metric_df = first_metric_df[\n",
    "    first_metric_df['Injury.Severity'] == 'Incident'\n",
    "]\n",
    "\n",
    "second_metric_df.head()"
   ]
  },
  {
   "cell_type": "code",
   "execution_count": 367,
   "metadata": {},
   "outputs": [
    {
     "data": {
      "text/plain": [
       "77"
      ]
     },
     "execution_count": 367,
     "metadata": {},
     "output_type": "execute_result"
    }
   ],
   "source": [
    "len(second_metric_df)"
   ]
  },
  {
   "cell_type": "markdown",
   "metadata": {},
   "source": [
    "Now we are down to 77 cases"
   ]
  },
  {
   "cell_type": "markdown",
   "metadata": {},
   "source": [
    "#### 3.Damage"
   ]
  },
  {
   "cell_type": "code",
   "execution_count": 368,
   "metadata": {},
   "outputs": [
    {
     "data": {
      "text/plain": [
       "Substantial    21698\n",
       "Destroyed       3542\n",
       "missing         1279\n",
       "Minor            961\n",
       "Unknown          100\n",
       "Name: Aircraft.damage, dtype: int64"
      ]
     },
     "execution_count": 368,
     "metadata": {},
     "output_type": "execute_result"
    }
   ],
   "source": [
    "df['Aircraft.damage'].value_counts()"
   ]
  },
  {
   "cell_type": "markdown",
   "metadata": {},
   "source": [
    "Getting the minor category"
   ]
  },
  {
   "cell_type": "code",
   "execution_count": 369,
   "metadata": {},
   "outputs": [
    {
     "data": {
      "text/html": [
       "<div>\n",
       "<style scoped>\n",
       "    .dataframe tbody tr th:only-of-type {\n",
       "        vertical-align: middle;\n",
       "    }\n",
       "\n",
       "    .dataframe tbody tr th {\n",
       "        vertical-align: top;\n",
       "    }\n",
       "\n",
       "    .dataframe thead th {\n",
       "        text-align: right;\n",
       "    }\n",
       "</style>\n",
       "<table border=\"1\" class=\"dataframe\">\n",
       "  <thead>\n",
       "    <tr style=\"text-align: right;\">\n",
       "      <th></th>\n",
       "      <th>Event.Id</th>\n",
       "      <th>Investigation.Type</th>\n",
       "      <th>Accident.Number</th>\n",
       "      <th>Event.Date</th>\n",
       "      <th>Location</th>\n",
       "      <th>Country</th>\n",
       "      <th>Latitude</th>\n",
       "      <th>Longitude</th>\n",
       "      <th>Airport.Code</th>\n",
       "      <th>Airport.Name</th>\n",
       "      <th>...</th>\n",
       "      <th>Total.Fatal.Injuries</th>\n",
       "      <th>Total.Serious.Injuries</th>\n",
       "      <th>Total.Minor.Injuries</th>\n",
       "      <th>Total.Uninjured</th>\n",
       "      <th>Weather.Condition</th>\n",
       "      <th>Broad.phase.of.flight</th>\n",
       "      <th>Report.Status</th>\n",
       "      <th>Publication.Date</th>\n",
       "      <th>year</th>\n",
       "      <th>Total.Injured</th>\n",
       "    </tr>\n",
       "    <tr>\n",
       "      <th>Aircraft.Name</th>\n",
       "      <th></th>\n",
       "      <th></th>\n",
       "      <th></th>\n",
       "      <th></th>\n",
       "      <th></th>\n",
       "      <th></th>\n",
       "      <th></th>\n",
       "      <th></th>\n",
       "      <th></th>\n",
       "      <th></th>\n",
       "      <th></th>\n",
       "      <th></th>\n",
       "      <th></th>\n",
       "      <th></th>\n",
       "      <th></th>\n",
       "      <th></th>\n",
       "      <th></th>\n",
       "      <th></th>\n",
       "      <th></th>\n",
       "      <th></th>\n",
       "      <th></th>\n",
       "    </tr>\n",
       "  </thead>\n",
       "  <tbody>\n",
       "    <tr>\n",
       "      <th>Airbus Industrie_300B4-200</th>\n",
       "      <td>20081003X63346</td>\n",
       "      <td>Incident</td>\n",
       "      <td>ENG05WA019</td>\n",
       "      <td>2005-06-29</td>\n",
       "      <td>Amsterdam, The Netherlands, Netherlands</td>\n",
       "      <td>Netherlands</td>\n",
       "      <td>missing</td>\n",
       "      <td>missing</td>\n",
       "      <td>EHAM</td>\n",
       "      <td>Amsterdam Inter. Schipol</td>\n",
       "      <td>...</td>\n",
       "      <td>0.0</td>\n",
       "      <td>0.0</td>\n",
       "      <td>0.0</td>\n",
       "      <td>279.0</td>\n",
       "      <td>missing</td>\n",
       "      <td>missing</td>\n",
       "      <td>Foreign</td>\n",
       "      <td>20-10-2009</td>\n",
       "      <td>2005</td>\n",
       "      <td>0.0</td>\n",
       "    </tr>\n",
       "    <tr>\n",
       "      <th>Airbus Industrie_A300</th>\n",
       "      <td>20001211X10544</td>\n",
       "      <td>Incident</td>\n",
       "      <td>DCA98WA066</td>\n",
       "      <td>1998-07-09</td>\n",
       "      <td>LONDON, United Kingdom</td>\n",
       "      <td>United Kingdom</td>\n",
       "      <td>missing</td>\n",
       "      <td>missing</td>\n",
       "      <td>missing</td>\n",
       "      <td>missing</td>\n",
       "      <td>...</td>\n",
       "      <td>0.0</td>\n",
       "      <td>0.0</td>\n",
       "      <td>0.0</td>\n",
       "      <td>1.0</td>\n",
       "      <td>UNK</td>\n",
       "      <td>missing</td>\n",
       "      <td>Foreign</td>\n",
       "      <td>missing</td>\n",
       "      <td>1998</td>\n",
       "      <td>0.0</td>\n",
       "    </tr>\n",
       "    <tr>\n",
       "      <th>Beech_18</th>\n",
       "      <td>20020917X02892</td>\n",
       "      <td>Incident</td>\n",
       "      <td>ATL82IA154</td>\n",
       "      <td>1982-06-06</td>\n",
       "      <td>MACON, GA</td>\n",
       "      <td>United States</td>\n",
       "      <td>missing</td>\n",
       "      <td>missing</td>\n",
       "      <td>MCN</td>\n",
       "      <td>LEWIS B. WILSON</td>\n",
       "      <td>...</td>\n",
       "      <td>0.0</td>\n",
       "      <td>0.0</td>\n",
       "      <td>0.0</td>\n",
       "      <td>2.0</td>\n",
       "      <td>VMC</td>\n",
       "      <td>Takeoff</td>\n",
       "      <td>Probable Cause</td>\n",
       "      <td>06-06-1983</td>\n",
       "      <td>1982</td>\n",
       "      <td>0.0</td>\n",
       "    </tr>\n",
       "    <tr>\n",
       "      <th>Beech_65-88</th>\n",
       "      <td>20020917X01900</td>\n",
       "      <td>Incident</td>\n",
       "      <td>CHI82IA102</td>\n",
       "      <td>1982-03-25</td>\n",
       "      <td>KALAMAZO, MI</td>\n",
       "      <td>United States</td>\n",
       "      <td>missing</td>\n",
       "      <td>missing</td>\n",
       "      <td>AZO</td>\n",
       "      <td>KALAMAZOO</td>\n",
       "      <td>...</td>\n",
       "      <td>0.0</td>\n",
       "      <td>0.0</td>\n",
       "      <td>0.0</td>\n",
       "      <td>2.0</td>\n",
       "      <td>VMC</td>\n",
       "      <td>Approach</td>\n",
       "      <td>Probable Cause</td>\n",
       "      <td>25-03-1983</td>\n",
       "      <td>1982</td>\n",
       "      <td>0.0</td>\n",
       "    </tr>\n",
       "    <tr>\n",
       "      <th>Beech_B99</th>\n",
       "      <td>20020917X04335</td>\n",
       "      <td>Incident</td>\n",
       "      <td>ATL83IA018</td>\n",
       "      <td>1982-10-28</td>\n",
       "      <td>CLARKSVILLE, TN</td>\n",
       "      <td>United States</td>\n",
       "      <td>missing</td>\n",
       "      <td>missing</td>\n",
       "      <td>CKV</td>\n",
       "      <td>OUTLAW FIELD</td>\n",
       "      <td>...</td>\n",
       "      <td>0.0</td>\n",
       "      <td>0.0</td>\n",
       "      <td>0.0</td>\n",
       "      <td>2.0</td>\n",
       "      <td>VMC</td>\n",
       "      <td>Landing</td>\n",
       "      <td>Probable Cause</td>\n",
       "      <td>28-10-1983</td>\n",
       "      <td>1982</td>\n",
       "      <td>0.0</td>\n",
       "    </tr>\n",
       "  </tbody>\n",
       "</table>\n",
       "<p>5 rows × 31 columns</p>\n",
       "</div>"
      ],
      "text/plain": [
       "                                  Event.Id Investigation.Type Accident.Number  \\\n",
       "Aircraft.Name                                                                   \n",
       "Airbus Industrie_300B4-200  20081003X63346           Incident      ENG05WA019   \n",
       "Airbus Industrie_A300       20001211X10544           Incident      DCA98WA066   \n",
       "Beech_18                    20020917X02892           Incident      ATL82IA154   \n",
       "Beech_65-88                 20020917X01900           Incident      CHI82IA102   \n",
       "Beech_B99                   20020917X04335           Incident      ATL83IA018   \n",
       "\n",
       "                           Event.Date  \\\n",
       "Aircraft.Name                           \n",
       "Airbus Industrie_300B4-200 2005-06-29   \n",
       "Airbus Industrie_A300      1998-07-09   \n",
       "Beech_18                   1982-06-06   \n",
       "Beech_65-88                1982-03-25   \n",
       "Beech_B99                  1982-10-28   \n",
       "\n",
       "                                                           Location  \\\n",
       "Aircraft.Name                                                         \n",
       "Airbus Industrie_300B4-200  Amsterdam, The Netherlands, Netherlands   \n",
       "Airbus Industrie_A300                        LONDON, United Kingdom   \n",
       "Beech_18                                                  MACON, GA   \n",
       "Beech_65-88                                            KALAMAZO, MI   \n",
       "Beech_B99                                           CLARKSVILLE, TN   \n",
       "\n",
       "                                   Country Latitude Longitude Airport.Code  \\\n",
       "Aircraft.Name                                                                \n",
       "Airbus Industrie_300B4-200     Netherlands  missing   missing         EHAM   \n",
       "Airbus Industrie_A300       United Kingdom  missing   missing      missing   \n",
       "Beech_18                     United States  missing   missing          MCN   \n",
       "Beech_65-88                  United States  missing   missing          AZO   \n",
       "Beech_B99                    United States  missing   missing          CKV   \n",
       "\n",
       "                                        Airport.Name  ...  \\\n",
       "Aircraft.Name                                         ...   \n",
       "Airbus Industrie_300B4-200  Amsterdam Inter. Schipol  ...   \n",
       "Airbus Industrie_A300                        missing  ...   \n",
       "Beech_18                             LEWIS B. WILSON  ...   \n",
       "Beech_65-88                                KALAMAZOO  ...   \n",
       "Beech_B99                               OUTLAW FIELD  ...   \n",
       "\n",
       "                           Total.Fatal.Injuries Total.Serious.Injuries  \\\n",
       "Aircraft.Name                                                            \n",
       "Airbus Industrie_300B4-200                  0.0                    0.0   \n",
       "Airbus Industrie_A300                       0.0                    0.0   \n",
       "Beech_18                                    0.0                    0.0   \n",
       "Beech_65-88                                 0.0                    0.0   \n",
       "Beech_B99                                   0.0                    0.0   \n",
       "\n",
       "                           Total.Minor.Injuries Total.Uninjured  \\\n",
       "Aircraft.Name                                                     \n",
       "Airbus Industrie_300B4-200                  0.0           279.0   \n",
       "Airbus Industrie_A300                       0.0             1.0   \n",
       "Beech_18                                    0.0             2.0   \n",
       "Beech_65-88                                 0.0             2.0   \n",
       "Beech_B99                                   0.0             2.0   \n",
       "\n",
       "                           Weather.Condition Broad.phase.of.flight  \\\n",
       "Aircraft.Name                                                        \n",
       "Airbus Industrie_300B4-200           missing               missing   \n",
       "Airbus Industrie_A300                    UNK               missing   \n",
       "Beech_18                                 VMC               Takeoff   \n",
       "Beech_65-88                              VMC              Approach   \n",
       "Beech_B99                                VMC               Landing   \n",
       "\n",
       "                             Report.Status  Publication.Date  year  \\\n",
       "Aircraft.Name                                                        \n",
       "Airbus Industrie_300B4-200         Foreign        20-10-2009  2005   \n",
       "Airbus Industrie_A300              Foreign           missing  1998   \n",
       "Beech_18                    Probable Cause        06-06-1983  1982   \n",
       "Beech_65-88                 Probable Cause        25-03-1983  1982   \n",
       "Beech_B99                   Probable Cause        28-10-1983  1982   \n",
       "\n",
       "                           Total.Injured  \n",
       "Aircraft.Name                             \n",
       "Airbus Industrie_300B4-200           0.0  \n",
       "Airbus Industrie_A300                0.0  \n",
       "Beech_18                             0.0  \n",
       "Beech_65-88                          0.0  \n",
       "Beech_B99                            0.0  \n",
       "\n",
       "[5 rows x 31 columns]"
      ]
     },
     "execution_count": 369,
     "metadata": {},
     "output_type": "execute_result"
    }
   ],
   "source": [
    "third_metric_df = (\n",
    "    second_metric_df[second_metric_df['Aircraft.damage'] == 'Minor']\n",
    ")\n",
    "\n",
    "third_metric_df.head()"
   ]
  },
  {
   "cell_type": "code",
   "execution_count": 370,
   "metadata": {},
   "outputs": [
    {
     "data": {
      "text/plain": [
       "46"
      ]
     },
     "execution_count": 370,
     "metadata": {},
     "output_type": "execute_result"
    }
   ],
   "source": [
    "len(third_metric_df)"
   ]
  },
  {
   "cell_type": "markdown",
   "metadata": {},
   "source": [
    "#### 4.Amatuer-Built"
   ]
  },
  {
   "cell_type": "markdown",
   "metadata": {},
   "source": [
    "Only professional Airplanes are required"
   ]
  },
  {
   "cell_type": "code",
   "execution_count": 371,
   "metadata": {},
   "outputs": [
    {
     "data": {
      "text/plain": [
       "42"
      ]
     },
     "execution_count": 371,
     "metadata": {},
     "output_type": "execute_result"
    }
   ],
   "source": [
    "fourth_metric_df = third_metric_df[third_metric_df['Amateur.Built'] == 'No']\n",
    "len(fourth_metric_df)"
   ]
  },
  {
   "cell_type": "code",
   "execution_count": 372,
   "metadata": {},
   "outputs": [
    {
     "data": {
      "text/plain": [
       "Index(['Event.Id', 'Investigation.Type', 'Accident.Number', 'Event.Date',\n",
       "       'Location', 'Country', 'Latitude', 'Longitude', 'Airport.Code',\n",
       "       'Airport.Name', 'Injury.Severity', 'Aircraft.damage',\n",
       "       'Aircraft.Category', 'Registration.Number', 'Make', 'Model',\n",
       "       'Amateur.Built', 'Number.of.Engines', 'Engine.Type', 'FAR.Description',\n",
       "       'Purpose.of.flight', 'Total.Fatal.Injuries', 'Total.Serious.Injuries',\n",
       "       'Total.Minor.Injuries', 'Total.Uninjured', 'Weather.Condition',\n",
       "       'Broad.phase.of.flight', 'Report.Status', 'Publication.Date', 'year',\n",
       "       'Total.Injured', 'Aircraft.Name'],\n",
       "      dtype='object')"
      ]
     },
     "execution_count": 372,
     "metadata": {},
     "output_type": "execute_result"
    }
   ],
   "source": [
    "df.columns"
   ]
  },
  {
   "cell_type": "markdown",
   "metadata": {},
   "source": [
    "#### 5.Number-of-Engines"
   ]
  },
  {
   "cell_type": "markdown",
   "metadata": {},
   "source": [
    "Obtaining a count of engines and accidents for each model.\r\n"
   ]
  },
  {
   "cell_type": "code",
   "execution_count": 373,
   "metadata": {},
   "outputs": [
    {
     "data": {
      "text/html": [
       "<div>\n",
       "<style scoped>\n",
       "    .dataframe tbody tr th:only-of-type {\n",
       "        vertical-align: middle;\n",
       "    }\n",
       "\n",
       "    .dataframe tbody tr th {\n",
       "        vertical-align: top;\n",
       "    }\n",
       "\n",
       "    .dataframe thead th {\n",
       "        text-align: right;\n",
       "    }\n",
       "</style>\n",
       "<table border=\"1\" class=\"dataframe\">\n",
       "  <thead>\n",
       "    <tr style=\"text-align: right;\">\n",
       "      <th></th>\n",
       "      <th>Aircraft.Name</th>\n",
       "      <th>Incident</th>\n",
       "      <th>Number.of.Engines</th>\n",
       "    </tr>\n",
       "  </thead>\n",
       "  <tbody>\n",
       "    <tr>\n",
       "      <th>0</th>\n",
       "      <td>177Mf Llc_PITTS MODEL 12</td>\n",
       "      <td>0</td>\n",
       "      <td>1.0</td>\n",
       "    </tr>\n",
       "    <tr>\n",
       "      <th>1</th>\n",
       "      <td>2007 Savage Air Llc_EPIC LT</td>\n",
       "      <td>1</td>\n",
       "      <td>1.0</td>\n",
       "    </tr>\n",
       "    <tr>\n",
       "      <th>2</th>\n",
       "      <td>2021Fx3 Llc_CCX-2000</td>\n",
       "      <td>0</td>\n",
       "      <td>1.0</td>\n",
       "    </tr>\n",
       "    <tr>\n",
       "      <th>3</th>\n",
       "      <td>3Xtrim_450 ULTRA</td>\n",
       "      <td>0</td>\n",
       "      <td>1.0</td>\n",
       "    </tr>\n",
       "    <tr>\n",
       "      <th>4</th>\n",
       "      <td>5 Rivers Llc_SQ-2</td>\n",
       "      <td>0</td>\n",
       "      <td>1.0</td>\n",
       "    </tr>\n",
       "    <tr>\n",
       "      <th>...</th>\n",
       "      <td>...</td>\n",
       "      <td>...</td>\n",
       "      <td>...</td>\n",
       "    </tr>\n",
       "    <tr>\n",
       "      <th>7488</th>\n",
       "      <td>Zlin_Z50</td>\n",
       "      <td>0</td>\n",
       "      <td>1.0</td>\n",
       "    </tr>\n",
       "    <tr>\n",
       "      <th>7489</th>\n",
       "      <td>Zodiac_601XL</td>\n",
       "      <td>0</td>\n",
       "      <td>1.0</td>\n",
       "    </tr>\n",
       "    <tr>\n",
       "      <th>7490</th>\n",
       "      <td>Zubair S Khan_RAVEN</td>\n",
       "      <td>0</td>\n",
       "      <td>1.0</td>\n",
       "    </tr>\n",
       "    <tr>\n",
       "      <th>7491</th>\n",
       "      <td>Zuber Thomas P_ZUBER SUPER DRIFTER</td>\n",
       "      <td>0</td>\n",
       "      <td>1.0</td>\n",
       "    </tr>\n",
       "    <tr>\n",
       "      <th>7492</th>\n",
       "      <td>Zwicker Murray R_GLASTAR</td>\n",
       "      <td>0</td>\n",
       "      <td>1.0</td>\n",
       "    </tr>\n",
       "  </tbody>\n",
       "</table>\n",
       "<p>7493 rows × 3 columns</p>\n",
       "</div>"
      ],
      "text/plain": [
       "                           Aircraft.Name  Incident  Number.of.Engines\n",
       "0               177Mf Llc_PITTS MODEL 12         0                1.0\n",
       "1            2007 Savage Air Llc_EPIC LT         1                1.0\n",
       "2                   2021Fx3 Llc_CCX-2000         0                1.0\n",
       "3                       3Xtrim_450 ULTRA         0                1.0\n",
       "4                      5 Rivers Llc_SQ-2         0                1.0\n",
       "...                                  ...       ...                ...\n",
       "7488                            Zlin_Z50         0                1.0\n",
       "7489                        Zodiac_601XL         0                1.0\n",
       "7490                 Zubair S Khan_RAVEN         0                1.0\n",
       "7491  Zuber Thomas P_ZUBER SUPER DRIFTER         0                1.0\n",
       "7492            Zwicker Murray R_GLASTAR         0                1.0\n",
       "\n",
       "[7493 rows x 3 columns]"
      ]
     },
     "execution_count": 373,
     "metadata": {},
     "output_type": "execute_result"
    }
   ],
   "source": [
    "number_of_engines = df.groupby('Aircraft.Name')['Number.of.Engines'].mean().round()\n",
    "\n",
    "number_of_incidents = df.groupby(\n",
    "    'Aircraft.Name'\n",
    ")['Investigation.Type'].value_counts().unstack(fill_value=0)['Incident']\n",
    "\n",
    "number_of_engines = number_of_engines[\n",
    "    number_of_incidents.index\n",
    "]\n",
    "\n",
    "engines_incidents = pd.concat([number_of_incidents, number_of_engines], axis=1).reset_index()\n",
    "engines_incidents"
   ]
  },
  {
   "cell_type": "markdown",
   "metadata": {},
   "source": [
    "Investigating the correlation between the number of engines and the number of incidents."
   ]
  },
  {
   "cell_type": "code",
   "execution_count": 374,
   "metadata": {},
   "outputs": [
    {
     "data": {
      "text/html": [
       "<div>\n",
       "<style scoped>\n",
       "    .dataframe tbody tr th:only-of-type {\n",
       "        vertical-align: middle;\n",
       "    }\n",
       "\n",
       "    .dataframe tbody tr th {\n",
       "        vertical-align: top;\n",
       "    }\n",
       "\n",
       "    .dataframe thead th {\n",
       "        text-align: right;\n",
       "    }\n",
       "</style>\n",
       "<table border=\"1\" class=\"dataframe\">\n",
       "  <thead>\n",
       "    <tr style=\"text-align: right;\">\n",
       "      <th></th>\n",
       "      <th>Incident</th>\n",
       "      <th>Number.of.Engines</th>\n",
       "    </tr>\n",
       "  </thead>\n",
       "  <tbody>\n",
       "    <tr>\n",
       "      <th>Incident</th>\n",
       "      <td>1.000000</td>\n",
       "      <td>0.049551</td>\n",
       "    </tr>\n",
       "    <tr>\n",
       "      <th>Number.of.Engines</th>\n",
       "      <td>0.049551</td>\n",
       "      <td>1.000000</td>\n",
       "    </tr>\n",
       "  </tbody>\n",
       "</table>\n",
       "</div>"
      ],
      "text/plain": [
       "                   Incident  Number.of.Engines\n",
       "Incident           1.000000           0.049551\n",
       "Number.of.Engines  0.049551           1.000000"
      ]
     },
     "execution_count": 374,
     "metadata": {},
     "output_type": "execute_result"
    }
   ],
   "source": [
    "engines_incidents.corr()"
   ]
  },
  {
   "cell_type": "markdown",
   "metadata": {},
   "source": [
    "Plotting the relationship"
   ]
  },
  {
   "cell_type": "code",
   "execution_count": 375,
   "metadata": {},
   "outputs": [
    {
     "data": {
      "image/png": "[encoded data removed]",
      "text/plain": [
       "<Figure size 864x576 with 1 Axes>"
      ]
     },
     "metadata": {
      "needs_background": "light"
     },
     "output_type": "display_data"
    }
   ],
   "source": [
    "rel_fig, ax = plt.subplots(figsize=(12, 8))\n",
    "\n",
    "sns.scatterplot(data=engines_incidents, x='Number.of.Engines', y='Incident')\n",
    "ax.set_title('Relationship between number of engines and number of Incidents');"
   ]
  },
  {
   "cell_type": "markdown",
   "metadata": {},
   "source": [
    "No relationship between the Number of engines and the occurence of incidents"
   ]
  },
  {
   "cell_type": "markdown",
   "metadata": {},
   "source": [
    "#### 6.Engine-type"
   ]
  },
  {
   "cell_type": "markdown",
   "metadata": {},
   "source": [
    "Get the engine type associated with less incidents"
   ]
  },
  {
   "cell_type": "code",
   "execution_count": 376,
   "metadata": {},
   "outputs": [
    {
     "data": {
      "text/plain": [
       "Reciprocating      20696\n",
       "missing             4213\n",
       "Turbo Prop          1366\n",
       "Turbo Fan            967\n",
       "Turbo Jet            158\n",
       "Unknown              151\n",
       "Geared Turbofan       12\n",
       "Turbo Shaft           11\n",
       "Electric               5\n",
       "UNK                    1\n",
       "Name: Engine.Type, dtype: int64"
      ]
     },
     "execution_count": 376,
     "metadata": {},
     "output_type": "execute_result"
    }
   ],
   "source": [
    "df['Engine.Type'].value_counts()"
   ]
  },
  {
   "cell_type": "code",
   "execution_count": 377,
   "metadata": {},
   "outputs": [
    {
     "data": {
      "text/html": [
       "<div>\n",
       "<style scoped>\n",
       "    .dataframe tbody tr th:only-of-type {\n",
       "        vertical-align: middle;\n",
       "    }\n",
       "\n",
       "    .dataframe tbody tr th {\n",
       "        vertical-align: top;\n",
       "    }\n",
       "\n",
       "    .dataframe thead th {\n",
       "        text-align: right;\n",
       "    }\n",
       "</style>\n",
       "<table border=\"1\" class=\"dataframe\">\n",
       "  <thead>\n",
       "    <tr style=\"text-align: right;\">\n",
       "      <th></th>\n",
       "      <th>Engine.Type</th>\n",
       "      <th>Accident</th>\n",
       "      <th>Incident</th>\n",
       "    </tr>\n",
       "  </thead>\n",
       "  <tbody>\n",
       "    <tr>\n",
       "      <th>9</th>\n",
       "      <td>missing</td>\n",
       "      <td>3362</td>\n",
       "      <td>851</td>\n",
       "    </tr>\n",
       "    <tr>\n",
       "      <th>3</th>\n",
       "      <td>Turbo Fan</td>\n",
       "      <td>574</td>\n",
       "      <td>393</td>\n",
       "    </tr>\n",
       "    <tr>\n",
       "      <th>2</th>\n",
       "      <td>Reciprocating</td>\n",
       "      <td>20511</td>\n",
       "      <td>185</td>\n",
       "    </tr>\n",
       "    <tr>\n",
       "      <th>5</th>\n",
       "      <td>Turbo Prop</td>\n",
       "      <td>1252</td>\n",
       "      <td>114</td>\n",
       "    </tr>\n",
       "    <tr>\n",
       "      <th>8</th>\n",
       "      <td>Unknown</td>\n",
       "      <td>98</td>\n",
       "      <td>53</td>\n",
       "    </tr>\n",
       "    <tr>\n",
       "      <th>4</th>\n",
       "      <td>Turbo Jet</td>\n",
       "      <td>118</td>\n",
       "      <td>40</td>\n",
       "    </tr>\n",
       "    <tr>\n",
       "      <th>1</th>\n",
       "      <td>Geared Turbofan</td>\n",
       "      <td>0</td>\n",
       "      <td>12</td>\n",
       "    </tr>\n",
       "    <tr>\n",
       "      <th>6</th>\n",
       "      <td>Turbo Shaft</td>\n",
       "      <td>10</td>\n",
       "      <td>1</td>\n",
       "    </tr>\n",
       "    <tr>\n",
       "      <th>0</th>\n",
       "      <td>Electric</td>\n",
       "      <td>5</td>\n",
       "      <td>0</td>\n",
       "    </tr>\n",
       "    <tr>\n",
       "      <th>7</th>\n",
       "      <td>UNK</td>\n",
       "      <td>1</td>\n",
       "      <td>0</td>\n",
       "    </tr>\n",
       "  </tbody>\n",
       "</table>\n",
       "</div>"
      ],
      "text/plain": [
       "       Engine.Type  Accident  Incident\n",
       "9          missing      3362       851\n",
       "3        Turbo Fan       574       393\n",
       "2    Reciprocating     20511       185\n",
       "5       Turbo Prop      1252       114\n",
       "8          Unknown        98        53\n",
       "4        Turbo Jet       118        40\n",
       "1  Geared Turbofan         0        12\n",
       "6      Turbo Shaft        10         1\n",
       "0         Electric         5         0\n",
       "7              UNK         1         0"
      ]
     },
     "execution_count": 377,
     "metadata": {},
     "output_type": "execute_result"
    }
   ],
   "source": [
    "engine_accidents = df.groupby(\n",
    "    'Engine.Type'\n",
    ")['Investigation.Type'].value_counts().unstack(fill_value=0).reset_index()\n",
    "\n",
    "\n",
    "# Sorting\n",
    "engine_accidents.sort_values(by='Incident', ascending=False, inplace=True)\n",
    "\n",
    "engine_accidents.columns.name = ''\n",
    "engine_accidents"
   ]
  },
  {
   "cell_type": "markdown",
   "metadata": {},
   "source": [
    "##### Plotting the distribution of incidents by Engine Type"
   ]
  },
  {
   "cell_type": "code",
   "execution_count": 378,
   "metadata": {},
   "outputs": [
    {
     "data": {
      "image/png": "[encoded data removed]",
      "text/plain": [
       "<Figure size 864x576 with 1 Axes>"
      ]
     },
     "metadata": {
      "needs_background": "light"
     },
     "output_type": "display_data"
    }
   ],
   "source": [
    "engine_fig, ax = plt.subplots(figsize=(12, 8))\n",
    "\n",
    "my_plot = sns.barplot(data=engine_accidents, x='Engine.Type', y='Incident')\n",
    "\n",
    "my_plot.set_xticklabels(my_plot.get_xticklabels(), rotation=45);"
   ]
  },
  {
   "cell_type": "markdown",
   "metadata": {},
   "source": [
    "Checking the available engines in filtered df"
   ]
  },
  {
   "cell_type": "code",
   "execution_count": 379,
   "metadata": {},
   "outputs": [],
   "source": [
    "available_engines = list(\n",
    "    fourth_metric_df['Engine.Type'].value_counts().index\n",
    ")\n",
    "available_engines.remove('Unknown')\n",
    "available_engines.remove('missing')"
   ]
  },
  {
   "cell_type": "code",
   "execution_count": 380,
   "metadata": {},
   "outputs": [],
   "source": [
    "sorted_engine_df = (\n",
    "    engine_accidents.set_index('Engine.Type').loc[available_engines].sort_values(by='Incident')\n",
    ")"
   ]
  },
  {
   "cell_type": "code",
   "execution_count": 381,
   "metadata": {},
   "outputs": [
    {
     "data": {
      "text/plain": [
       "2"
      ]
     },
     "execution_count": 381,
     "metadata": {},
     "output_type": "execute_result"
    }
   ],
   "source": [
    "sorted_engines_names = list(sorted_engine_df.index)\n",
    "\n",
    "sixth_metric_df = fourth_metric_df[\n",
    "    fourth_metric_df['Engine.Type'] == sorted_engines_names[0]\n",
    "]\n",
    "len(sixth_metric_df)"
   ]
  },
  {
   "cell_type": "code",
   "execution_count": 382,
   "metadata": {},
   "outputs": [
    {
     "data": {
      "text/html": [
       "<div>\n",
       "<style scoped>\n",
       "    .dataframe tbody tr th:only-of-type {\n",
       "        vertical-align: middle;\n",
       "    }\n",
       "\n",
       "    .dataframe tbody tr th {\n",
       "        vertical-align: top;\n",
       "    }\n",
       "\n",
       "    .dataframe thead th {\n",
       "        text-align: right;\n",
       "    }\n",
       "</style>\n",
       "<table border=\"1\" class=\"dataframe\">\n",
       "  <thead>\n",
       "    <tr style=\"text-align: right;\">\n",
       "      <th></th>\n",
       "      <th>Event.Id</th>\n",
       "      <th>Investigation.Type</th>\n",
       "      <th>Accident.Number</th>\n",
       "      <th>Event.Date</th>\n",
       "      <th>Location</th>\n",
       "      <th>Country</th>\n",
       "      <th>Latitude</th>\n",
       "      <th>Longitude</th>\n",
       "      <th>Airport.Code</th>\n",
       "      <th>Airport.Name</th>\n",
       "      <th>...</th>\n",
       "      <th>Total.Fatal.Injuries</th>\n",
       "      <th>Total.Serious.Injuries</th>\n",
       "      <th>Total.Minor.Injuries</th>\n",
       "      <th>Total.Uninjured</th>\n",
       "      <th>Weather.Condition</th>\n",
       "      <th>Broad.phase.of.flight</th>\n",
       "      <th>Report.Status</th>\n",
       "      <th>Publication.Date</th>\n",
       "      <th>year</th>\n",
       "      <th>Total.Injured</th>\n",
       "    </tr>\n",
       "    <tr>\n",
       "      <th>Aircraft.Name</th>\n",
       "      <th></th>\n",
       "      <th></th>\n",
       "      <th></th>\n",
       "      <th></th>\n",
       "      <th></th>\n",
       "      <th></th>\n",
       "      <th></th>\n",
       "      <th></th>\n",
       "      <th></th>\n",
       "      <th></th>\n",
       "      <th></th>\n",
       "      <th></th>\n",
       "      <th></th>\n",
       "      <th></th>\n",
       "      <th></th>\n",
       "      <th></th>\n",
       "      <th></th>\n",
       "      <th></th>\n",
       "      <th></th>\n",
       "      <th></th>\n",
       "      <th></th>\n",
       "    </tr>\n",
       "  </thead>\n",
       "  <tbody>\n",
       "    <tr>\n",
       "      <th>Boeing_B737-2H4</th>\n",
       "      <td>20020917X02336</td>\n",
       "      <td>Incident</td>\n",
       "      <td>LAX82IA075</td>\n",
       "      <td>1982-02-15</td>\n",
       "      <td>ONTARIO, CA</td>\n",
       "      <td>United States</td>\n",
       "      <td>missing</td>\n",
       "      <td>missing</td>\n",
       "      <td>ONT</td>\n",
       "      <td>ONTARIO INTERNATIONAL</td>\n",
       "      <td>...</td>\n",
       "      <td>0.0</td>\n",
       "      <td>0.0</td>\n",
       "      <td>0.0</td>\n",
       "      <td>119.0</td>\n",
       "      <td>IMC</td>\n",
       "      <td>Approach</td>\n",
       "      <td>Probable Cause</td>\n",
       "      <td>15-02-1983</td>\n",
       "      <td>1982</td>\n",
       "      <td>0.0</td>\n",
       "    </tr>\n",
       "    <tr>\n",
       "      <th>Rockwell_NA-265-80</th>\n",
       "      <td>20020917X02153</td>\n",
       "      <td>Incident</td>\n",
       "      <td>FTW82IA146</td>\n",
       "      <td>1982-03-20</td>\n",
       "      <td>HOUSTON, TX</td>\n",
       "      <td>United States</td>\n",
       "      <td>missing</td>\n",
       "      <td>missing</td>\n",
       "      <td>IAH</td>\n",
       "      <td>HOUSTON INTERCONTINENTAL</td>\n",
       "      <td>...</td>\n",
       "      <td>0.0</td>\n",
       "      <td>0.0</td>\n",
       "      <td>0.0</td>\n",
       "      <td>2.0</td>\n",
       "      <td>IMC</td>\n",
       "      <td>Taxi</td>\n",
       "      <td>Probable Cause</td>\n",
       "      <td>20-03-1983</td>\n",
       "      <td>1982</td>\n",
       "      <td>0.0</td>\n",
       "    </tr>\n",
       "  </tbody>\n",
       "</table>\n",
       "<p>2 rows × 31 columns</p>\n",
       "</div>"
      ],
      "text/plain": [
       "                          Event.Id Investigation.Type Accident.Number  \\\n",
       "Aircraft.Name                                                           \n",
       "Boeing_B737-2H4     20020917X02336           Incident      LAX82IA075   \n",
       "Rockwell_NA-265-80  20020917X02153           Incident      FTW82IA146   \n",
       "\n",
       "                   Event.Date     Location        Country Latitude Longitude  \\\n",
       "Aircraft.Name                                                                  \n",
       "Boeing_B737-2H4    1982-02-15  ONTARIO, CA  United States  missing   missing   \n",
       "Rockwell_NA-265-80 1982-03-20  HOUSTON, TX  United States  missing   missing   \n",
       "\n",
       "                   Airport.Code              Airport.Name  ...  \\\n",
       "Aircraft.Name                                              ...   \n",
       "Boeing_B737-2H4             ONT     ONTARIO INTERNATIONAL  ...   \n",
       "Rockwell_NA-265-80          IAH  HOUSTON INTERCONTINENTAL  ...   \n",
       "\n",
       "                   Total.Fatal.Injuries Total.Serious.Injuries  \\\n",
       "Aircraft.Name                                                    \n",
       "Boeing_B737-2H4                     0.0                    0.0   \n",
       "Rockwell_NA-265-80                  0.0                    0.0   \n",
       "\n",
       "                   Total.Minor.Injuries Total.Uninjured Weather.Condition  \\\n",
       "Aircraft.Name                                                               \n",
       "Boeing_B737-2H4                     0.0           119.0               IMC   \n",
       "Rockwell_NA-265-80                  0.0             2.0               IMC   \n",
       "\n",
       "                   Broad.phase.of.flight   Report.Status  Publication.Date  \\\n",
       "Aircraft.Name                                                                \n",
       "Boeing_B737-2H4                 Approach  Probable Cause        15-02-1983   \n",
       "Rockwell_NA-265-80                  Taxi  Probable Cause        20-03-1983   \n",
       "\n",
       "                    year Total.Injured  \n",
       "Aircraft.Name                           \n",
       "Boeing_B737-2H4     1982           0.0  \n",
       "Rockwell_NA-265-80  1982           0.0  \n",
       "\n",
       "[2 rows x 31 columns]"
      ]
     },
     "execution_count": 382,
     "metadata": {},
     "output_type": "execute_result"
    }
   ],
   "source": [
    "sixth_metric_df"
   ]
  },
  {
   "cell_type": "code",
   "execution_count": null,
   "metadata": {},
   "outputs": [],
   "source": []
  },
  {
   "cell_type": "code",
   "execution_count": null,
   "metadata": {},
   "outputs": [],
   "source": []
  }
 ],
 "metadata": {
  "kernelspec": {
   "display_name": "Python 3 (ipykernel)",
   "language": "python",
   "name": "python3"
  },
  "language_info": {
   "codemirror_mode": {
    "name": "ipython",
    "version": 3
   },
   "file_extension": ".py",
   "mimetype": "text/x-python",
   "name": "python",
   "nbconvert_exporter": "python",
   "pygments_lexer": "ipython3",
   "version": "3.11.7"
  }
 },
 "nbformat": 4,
 "nbformat_minor": 4
}
